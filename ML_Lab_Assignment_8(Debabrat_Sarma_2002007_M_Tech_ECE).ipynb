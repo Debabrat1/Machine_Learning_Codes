{
  "nbformat": 4,
  "nbformat_minor": 0,
  "metadata": {
    "colab": {
      "name": "ML_Lab_Assignment_8(Debabrat_Sarma_2002007_M.Tech_ECE).ipynb",
      "provenance": [],
      "authorship_tag": "ABX9TyP3V5OjZOwG+Q5JV7yZI6CQ",
      "include_colab_link": true
    },
    "kernelspec": {
      "name": "python3",
      "display_name": "Python 3"
    },
    "language_info": {
      "name": "python"
    }
  },
  "cells": [
    {
      "cell_type": "markdown",
      "metadata": {
        "id": "view-in-github",
        "colab_type": "text"
      },
      "source": [
        "<a href=\"https://colab.research.google.com/github/Debabrat1/Machine_Learning_Codes/blob/main/ML_Lab_Assignment_8(Debabrat_Sarma_2002007_M_Tech_ECE).ipynb\" target=\"_parent\"><img src=\"https://colab.research.google.com/assets/colab-badge.svg\" alt=\"Open In Colab\"/></a>"
      ]
    },
    {
      "cell_type": "markdown",
      "metadata": {
        "id": "kO0-rxlllCvJ"
      },
      "source": [
        "# **Q.1. Synthetic data generation and simple curve fitting**\n",
        "(a) Generate a synthetic dataset as follows. The input values {x } are generated uniformly i\n",
        "in range [0, 1] , and the corresponding target values {yi} are obtained by first computing\n",
        "the corresponding values of the function sin(2Πx) , and then adding a random noise with\n",
        "a Gaussian distribution having standard deviation 0.3. Generate 10 such instances of\n",
        "(xi\n",
        ", yi\n",
        ") . [You can use any standard module to generate random numbers as per a\n",
        "gaussian / normal distribution, e.g., numpy.random.normal for python.]\n",
        "(b) Split the dataset into two sets randomly: (i) Training Set (80%) (ii) Test Set (20%).\n",
        "(c) Write a code to fit a curve that minimizes squared error cost function using gradient\n",
        "descent (with learning rate 0.05), as discussed in class, on the training set while the\n",
        "model takes following form y = W Φ (x) , , .\n",
        "T\n",
        "n W ∈ R\n",
        "n+1 Φn(x) = [1, x, x , x ... , x ]\n",
        "2 3 n\n",
        "Squared error is defined as J(θ) = . In your experiment, vary\n",
        "1\n",
        "2m ∑\n",
        "m\n",
        "i=1\n",
        "(W Φ (x)\n",
        "T\n",
        "n − y)\n",
        "2\n",
        "n\n",
        "from 1 to 9. In other words, fit 9 different curves to the training data, and hence estimate\n",
        "the parameters. Use the estimated W to measure squared error on the test set, and\n",
        "name it as test error on test data.\n"
      ]
    },
    {
      "cell_type": "code",
      "metadata": {
        "id": "eWMnlPJdlT2G"
      },
      "source": [
        "import numpy as np\n",
        "import random\n",
        "import math\n",
        "from sklearn.metrics import confusion_matrix, classification_report \n",
        "from sklearn.model_selection import train_test_split \n",
        "import matplotlib.pyplot as plt"
      ],
      "execution_count": null,
      "outputs": []
    },
    {
      "cell_type": "code",
      "metadata": {
        "id": "R4Q-pwpqmoyc"
      },
      "source": [
        "x1 = []\n",
        "y = []\n",
        "n = 10\n",
        "for i in range(n):\n",
        "    x1.append(random.uniform(0, 1))   \n",
        "for i in range(n):\n",
        "    noise = np.random.normal(scale= 0.3)\n",
        "#     print(noise)\n",
        "    temp = noise + math.sin(2*math.pi*x1[i])\n",
        "    y.append(temp) \n",
        "# for i in range(n):    \n",
        "#     print(\"(\", x1[i],\", \" ,y[i], \")\")\n",
        "train_error = []\n",
        "test_error = []"
      ],
      "execution_count": null,
      "outputs": []
    },
    {
      "cell_type": "code",
      "metadata": {
        "colab": {
          "base_uri": "https://localhost:8080/"
        },
        "id": "qbDWj43XnDmP",
        "outputId": "11916dac-c6b7-470a-bb9c-d84e7420c43a"
      },
      "source": [
        "x_train, x_test, y_train, y_test = train_test_split(x1,y,test_size = 0.2, random_state = 42)\n",
        "x2 = []\n",
        "x3 = []\n",
        "x4 = []\n",
        "x5 = []\n",
        "x6 = []\n",
        "x7 = []\n",
        "x8 = []\n",
        "x9 = []\n",
        "n1 = int(0.8*n)\n",
        "n2 = int(0.2*n)\n",
        "for i in range(n1):\n",
        "    x2.append(x_train[i]*x_train[i])\n",
        "    x3.append(x2[i]*x_train[i])\n",
        "    x4.append(x3[i]*x_train[i])\n",
        "    x5.append(x4[i]*x_train[i])\n",
        "    x6.append(x5[i]*x_train[i])\n",
        "    x7.append(x6[i]*x_train[i])\n",
        "    x8.append(x7[i]*x_train[i])\n",
        "    x9.append(x8[i]*x_train[i])\n",
        "    \n",
        "x2_test = []\n",
        "x3_test = []\n",
        "x4_test = []\n",
        "x5_test = []\n",
        "x6_test = []\n",
        "x7_test = []\n",
        "x8_test = []\n",
        "x9_test = []\n",
        "for i in range(n2):\n",
        "    x2_test.append(x_test[i]*x_test[i])\n",
        "    x3_test.append(x2_test[i]*x_test[i])\n",
        "    x4_test.append(x3_test[i]*x_test[i])\n",
        "    x5_test.append(x4_test[i]*x_test[i])\n",
        "    x6_test.append(x5_test[i]*x_test[i])\n",
        "    x7_test.append(x6_test[i]*x_test[i])\n",
        "    x8_test.append(x7_test[i]*x_test[i])\n",
        "    x9_test.append(x8_test[i]*x_test[i])\n",
        "\n",
        "print(x_train[0], x2[0], x3[0], x4[0], x5[0], x6[0])"
      ],
      "execution_count": null,
      "outputs": [
        {
          "output_type": "stream",
          "text": [
            "0.24955913211255853 0.06227976042077345 0.015542482958786295 0.0038787685580689386 0.0009679821150171645 0.00024156877652416238\n"
          ],
          "name": "stdout"
        }
      ]
    },
    {
      "cell_type": "code",
      "metadata": {
        "id": "cMi8ijW1nTed"
      },
      "source": [
        "def cost_function(X, Y, B):\n",
        "    m = len(Y)\n",
        "    J = np.sum(abs((X.dot(B) - Y)))/(2 * m)\n",
        "    return J"
      ],
      "execution_count": null,
      "outputs": []
    },
    {
      "cell_type": "code",
      "metadata": {
        "id": "DQAZtYj6nfYs"
      },
      "source": [
        "def gradient_descent(X, Y, B, alpha, iterations):\n",
        "    cost_history = [0] * iterations\n",
        "    m = len(Y)\n",
        "    \n",
        "    for iteration in range(iterations):\n",
        "        # Hypothesis Values\n",
        "        h = X.dot(B)\n",
        "        # Difference b/w Hypothesis and Actual Y\n",
        "        loss = h - Y\n",
        "        # Gradient Calculation\n",
        "        gradient = X.T.dot(loss) / m\n",
        "        # Changing Values of B using Gradient\n",
        "        B = B - alpha * gradient\n",
        "        # New Cost Value\n",
        "        cost = cost_function(X, Y, B)\n",
        "        cost_history[iteration] = cost\n",
        "#         print(cost)\n",
        "        \n",
        "    return B, cost_history"
      ],
      "execution_count": null,
      "outputs": []
    },
    {
      "cell_type": "code",
      "metadata": {
        "id": "B1Hc5KVynunC"
      },
      "source": [
        "def parameterX_n(n):\n",
        "    m = len(x_train)\n",
        "    x0 = np.ones(m)\n",
        "    \n",
        "    m2 = len(x_test)\n",
        "    x0_test = np.ones(m2)\n",
        "    #Taking transpose of X matrix\n",
        "    # X = np.array([x0]).T\n",
        "    if n ==0:\n",
        "        X = np.array([x0]).T\n",
        "        B = np.array([0])\n",
        "        X_test = np.array([x0_test]).T\n",
        "    elif n==1:\n",
        "        X = np.array([x0, x_train]).T\n",
        "        B = np.array([0, 0])\n",
        "        X_test = np.array([x0_test, x_test]).T\n",
        "    elif n==2:\n",
        "        X = np.array([x0, x_train, x2]).T\n",
        "        B = np.array([0, 0, 0])\n",
        "        X_test = np.array([x0_test, x_test, x2_test]).T\n",
        "    elif n==3:\n",
        "        X = np.array([x0, x_train, x2, x3]).T\n",
        "        B = np.array([0, 0, 0, 0])\n",
        "        X_test = np.array([x0_test, x_test, x2_test, x3_test]).T\n",
        "    elif n==4:\n",
        "        X = np.array([x0, x_train, x2, x3, x4]).T\n",
        "        B = np.array([0, 0, 0, 0, 0])\n",
        "        X_test = np.array([x0_test, x_test, x2_test, x3_test, x4_test]).T\n",
        "    elif n==5:\n",
        "        X = np.array([x0, x_train, x2, x3, x4, x5]).T\n",
        "        B = np.array([0, 0, 0, 0, 0, 0])\n",
        "        X_test = np.array([x0_test, x_test, x2_test, x3_test, x4_test, x5_test]).T\n",
        "    elif n==6:\n",
        "        X = np.array([x0, x_train, x2, x3, x4, x5, x6]).T\n",
        "        B = np.array([0, 0, 0, 0, 0, 0, 0])\n",
        "        X_test = np.array([x0_test, x_test, x2_test, x3_test, x4_test, x5_test, x6_test]).T\n",
        "    elif n==7:\n",
        "        X = np.array([x0, x_train, x2, x3, x4, x5, x6, x7]).T\n",
        "        B = np.array([0, 0, 0, 0, 0, 0, 0, 0])\n",
        "        X_test = np.array([x0_test, x_test, x2_test, x3_test, x4_test, x5_test, x6_test, x7_test]).T\n",
        "    elif n==8:\n",
        "        X = np.array([x0, x_train, x2, x3, x4, x5, x6, x7, x8]).T\n",
        "        B = np.array([0, 0, 0, 0, 0, 0, 0, 0, 0])\n",
        "        X_test = np.array([x0_test, x_test, x2_test, x3_test, x4_test, x5_test, x6_test, x7_test, x8_test]).T\n",
        "    elif n==9:\n",
        "        X = np.array([x0, x_train, x2, x3, x4, x5, x6, x7, x8, x9]).T\n",
        "        B = np.array([0, 0, 0, 0, 0, 0, 0, 0, 0, 0])\n",
        "        X_test = np.array([x0_test, x_test, x2_test, x3_test, x4_test, x5_test, x6_test, x7_test, x8_test, x9_test]).T   \n",
        "    return X, B, X_test"
      ],
      "execution_count": null,
      "outputs": []
    },
    {
      "cell_type": "markdown",
      "metadata": {
        "id": "mZFU455eobXP"
      },
      "source": [
        "# **Case 1: N = 0**\n",
        "i.e. Y = *b0*"
      ]
    },
    {
      "cell_type": "code",
      "metadata": {
        "colab": {
          "base_uri": "https://localhost:8080/",
          "height": 265
        },
        "id": "nhDg3BquoTNc",
        "outputId": "e6e8c37b-802f-4752-a7e3-ca192c6ce963"
      },
      "source": [
        "N = 0 \n",
        "X, B, X_test = parameterX_n(N)\n",
        "Y = y_train\n",
        "alpha = 0.1\n",
        "\n",
        "#Training and Training Error\n",
        "newB, cost_history = gradient_descent(X, Y, B, alpha, 100000)  # 100000 Iterations\n",
        "train_error.append(cost_history[-1])\n",
        "\n",
        "#Test Error\n",
        "test_error.append(cost_function(X_test, y_test, newB))\n",
        "\n",
        "#Learning Curve for Train Error\n",
        "time = []\n",
        "time_temp = 0\n",
        "for i in range(len(cost_history)):\n",
        "    time_temp += 1\n",
        "    time.append(time_temp)\n",
        "plt.plot(time,cost_history)\n",
        "plt.show()"
      ],
      "execution_count": null,
      "outputs": [
        {
          "output_type": "display_data",
          "data": {
            "image/png": "[encoded data removed]",
            "text/plain": [
              "<Figure size 432x288 with 1 Axes>"
            ]
          },
          "metadata": {
            "tags": [],
            "needs_background": "light"
          }
        }
      ]
    },
    {
      "cell_type": "markdown",
      "metadata": {
        "id": "VS7828bIpid3"
      },
      "source": [
        "# **Curve Fiting for N=0**"
      ]
    },
    {
      "cell_type": "code",
      "metadata": {
        "colab": {
          "base_uri": "https://localhost:8080/",
          "height": 265
        },
        "id": "hXSNvje3pW7o",
        "outputId": "aa0fd0d4-1584-42ae-a3bb-207d5ef2b326"
      },
      "source": [
        "#Curve Fiting\n",
        "Y_hyp = []\n",
        "X_t = []\n",
        "x_temp = 0\n",
        "for i in range(5000):\n",
        "    x_temp += .0002\n",
        "    X_t.append(x_temp)\n",
        "    Y_hyp.append(newB[0])\n",
        "plt.scatter(x1,y)\n",
        "plt.plot(X_t,Y_hyp, 'r')\n",
        "plt.show()"
      ],
      "execution_count": null,
      "outputs": [
        {
          "output_type": "display_data",
          "data": {
            "image/png": "[encoded data removed]",
            "text/plain": [
              "<Figure size 432x288 with 1 Axes>"
            ]
          },
          "metadata": {
            "tags": [],
            "needs_background": "light"
          }
        }
      ]
    },
    {
      "cell_type": "code",
      "metadata": {
        "colab": {
          "base_uri": "https://localhost:8080/"
        },
        "id": "2zA10NghqD0U",
        "outputId": "beeefe5f-a76d-4cb3-e91c-77e0f756c4cd"
      },
      "source": [
        "newB"
      ],
      "execution_count": null,
      "outputs": [
        {
          "output_type": "execute_result",
          "data": {
            "text/plain": [
              "array([0.34764838])"
            ]
          },
          "metadata": {
            "tags": []
          },
          "execution_count": 10
        }
      ]
    },
    {
      "cell_type": "markdown",
      "metadata": {
        "id": "pb-NZc2RqceP"
      },
      "source": [
        "# **Case 2: N = 1**\n",
        "i.e. Y = b0 + b1*x"
      ]
    },
    {
      "cell_type": "code",
      "metadata": {
        "colab": {
          "base_uri": "https://localhost:8080/",
          "height": 265
        },
        "id": "ZYO-43XXqhAf",
        "outputId": "35db72dc-fa74-4b8a-8945-fd3fcf995f73"
      },
      "source": [
        "N = 1\n",
        "X, B, X_test = parameterX_n(N)\n",
        "Y = y_train\n",
        "alpha = 0.1\n",
        "\n",
        "#Training and Training Error\n",
        "newB, cost_history = gradient_descent(X, Y, B, alpha, 100000)  # 100000 Iterations\n",
        "train_error.append(cost_history[-1])\n",
        "\n",
        "#Test Error\n",
        "test_error.append(cost_function(X_test, y_test, newB))\n",
        "\n",
        "#Learning Curve for Train Error\n",
        "time = []\n",
        "time_temp = 0\n",
        "for i in range(len(cost_history)):\n",
        "    time_temp += 1\n",
        "    time.append(time_temp)\n",
        "plt.plot(time,cost_history)\n",
        "plt.show()"
      ],
      "execution_count": null,
      "outputs": [
        {
          "output_type": "display_data",
          "data": {
            "image/png": "[encoded data removed]",
            "text/plain": [
              "<Figure size 432x288 with 1 Axes>"
            ]
          },
          "metadata": {
            "tags": [],
            "needs_background": "light"
          }
        }
      ]
    },
    {
      "cell_type": "markdown",
      "metadata": {
        "id": "e0_zlI9IrGJu"
      },
      "source": [
        "# **Curve Fiting for N=1**"
      ]
    },
    {
      "cell_type": "code",
      "metadata": {
        "colab": {
          "base_uri": "https://localhost:8080/",
          "height": 265
        },
        "id": "pnfP2hemrLk6",
        "outputId": "57102777-2b8b-4f18-858c-ed43de571487"
      },
      "source": [
        "Y_hyp = []\n",
        "X_t = []\n",
        "x_temp = 0\n",
        "for i in range(5000):\n",
        "    x_temp += .0002\n",
        "    X_t.append(x_temp)\n",
        "    Y_hyp.append(newB[0]+newB[1]*x_temp)\n",
        "plt.scatter(x1,y)\n",
        "plt.plot(X_t,Y_hyp, 'r')\n",
        "plt.show()"
      ],
      "execution_count": null,
      "outputs": [
        {
          "output_type": "display_data",
          "data": {
            "image/png": "[encoded data removed]",
            "text/plain": [
              "<Figure size 432x288 with 1 Axes>"
            ]
          },
          "metadata": {
            "tags": [],
            "needs_background": "light"
          }
        }
      ]
    },
    {
      "cell_type": "code",
      "metadata": {
        "colab": {
          "base_uri": "https://localhost:8080/"
        },
        "id": "kdAF7ZO9r1Js",
        "outputId": "364791ff-8529-4953-8264-03f52b84c261"
      },
      "source": [
        "newB"
      ],
      "execution_count": null,
      "outputs": [
        {
          "output_type": "execute_result",
          "data": {
            "text/plain": [
              "array([ 0.85138851, -1.69917373])"
            ]
          },
          "metadata": {
            "tags": []
          },
          "execution_count": 13
        }
      ]
    },
    {
      "cell_type": "markdown",
      "metadata": {
        "id": "rksArJKVsD8a"
      },
      "source": [
        "# **Case 3: N = 2**\n",
        "i.e. Y = b0 + b1*x + b2*x2"
      ]
    },
    {
      "cell_type": "code",
      "metadata": {
        "colab": {
          "base_uri": "https://localhost:8080/",
          "height": 265
        },
        "id": "W4sL3l4HsKBU",
        "outputId": "b6130f5f-6b27-4ceb-8723-9c2d2316195f"
      },
      "source": [
        "N = 2\n",
        "X, B, X_test = parameterX_n(N)\n",
        "Y = y_train\n",
        "alpha = 0.1\n",
        "\n",
        "#Training and Training Error\n",
        "newB, cost_history = gradient_descent(X, Y, B, alpha, 100000)  # 100000 Iterations\n",
        "train_error.append(cost_history[-1])\n",
        "\n",
        "#Test Error\n",
        "test_error.append(cost_function(X_test, y_test, newB))\n",
        "\n",
        "#Learning Curve for Train Error\n",
        "time = []\n",
        "time_temp = 0\n",
        "for i in range(len(cost_history)):\n",
        "    time_temp += 1\n",
        "    time.append(time_temp)\n",
        "plt.plot(time,cost_history)\n",
        "plt.show()"
      ],
      "execution_count": null,
      "outputs": [
        {
          "output_type": "display_data",
          "data": {
            "image/png": "[encoded data removed]",
            "text/plain": [
              "<Figure size 432x288 with 1 Axes>"
            ]
          },
          "metadata": {
            "tags": [],
            "needs_background": "light"
          }
        }
      ]
    },
    {
      "cell_type": "markdown",
      "metadata": {
        "id": "DnU60tUdsZP7"
      },
      "source": [
        "# **Curve Fiting for N=2**"
      ]
    },
    {
      "cell_type": "code",
      "metadata": {
        "colab": {
          "base_uri": "https://localhost:8080/",
          "height": 265
        },
        "id": "cFI19AhjsdbB",
        "outputId": "c2767c3c-6ee8-4c21-d89a-a7ba222e6611"
      },
      "source": [
        "Y_hyp = []\n",
        "X_t = []\n",
        "x_temp = 0\n",
        "for i in range(5000):\n",
        "    x_temp += .0002\n",
        "    X_t.append(x_temp)\n",
        "    Y_hyp.append(newB[0]+newB[1]*x_temp+newB[2]*((x_temp)**2))\n",
        "plt.scatter(x1,y)\n",
        "plt.plot(X_t,Y_hyp, 'r')\n",
        "plt.show()"
      ],
      "execution_count": null,
      "outputs": [
        {
          "output_type": "display_data",
          "data": {
            "image/png": "[encoded data removed]",
            "text/plain": [
              "<Figure size 432x288 with 1 Axes>"
            ]
          },
          "metadata": {
            "tags": [],
            "needs_background": "light"
          }
        }
      ]
    },
    {
      "cell_type": "code",
      "metadata": {
        "colab": {
          "base_uri": "https://localhost:8080/"
        },
        "id": "-CWbGf6Csv44",
        "outputId": "30dc8bae-65e4-41b6-84ee-eaec6f8ca6b4"
      },
      "source": [
        "newB"
      ],
      "execution_count": null,
      "outputs": [
        {
          "output_type": "execute_result",
          "data": {
            "text/plain": [
              "array([ 0.45620438,  1.72283839, -3.93278372])"
            ]
          },
          "metadata": {
            "tags": []
          },
          "execution_count": 17
        }
      ]
    },
    {
      "cell_type": "markdown",
      "metadata": {
        "id": "fyLAHxTAs8UN"
      },
      "source": [
        "# **Case 4: N = 3**\n",
        "i.e. Y = b0 + b1*x + b2*x2 + b3*x3"
      ]
    },
    {
      "cell_type": "code",
      "metadata": {
        "colab": {
          "base_uri": "https://localhost:8080/",
          "height": 265
        },
        "id": "yXCaCuYftBEk",
        "outputId": "576dfde5-7b7f-4733-94f9-2d5e53ae266b"
      },
      "source": [
        "N = 3\n",
        "X, B, X_test = parameterX_n(N)\n",
        "Y = y_train\n",
        "alpha = 0.1\n",
        "\n",
        "#Training and Training Error\n",
        "newB, cost_history = gradient_descent(X, Y, B, alpha, 100000)  # 100000 Iterations\n",
        "train_error.append(cost_history[-1])\n",
        "\n",
        "#Test Error\n",
        "test_error.append(cost_function(X_test, y_test, newB))\n",
        "\n",
        "#Learning Curve for Train Error\n",
        "time = []\n",
        "time_temp = 0\n",
        "for i in range(len(cost_history)):\n",
        "    time_temp += 1\n",
        "    time.append(time_temp)\n",
        "plt.plot(time,cost_history)\n",
        "plt.show()"
      ],
      "execution_count": null,
      "outputs": [
        {
          "output_type": "display_data",
          "data": {
            "image/png": "[encoded data removed]",
            "text/plain": [
              "<Figure size 432x288 with 1 Axes>"
            ]
          },
          "metadata": {
            "tags": [],
            "needs_background": "light"
          }
        }
      ]
    },
    {
      "cell_type": "markdown",
      "metadata": {
        "id": "oeXWGV2ltUMW"
      },
      "source": [
        "# **Curve Fiting for N=3**"
      ]
    },
    {
      "cell_type": "code",
      "metadata": {
        "colab": {
          "base_uri": "https://localhost:8080/",
          "height": 265
        },
        "id": "UDi-Hz3RtaHj",
        "outputId": "8d89c96d-ad24-4560-c4ea-0d336073a08c"
      },
      "source": [
        "Y_hyp = []\n",
        "X_t = []\n",
        "x_temp = 0\n",
        "for i in range(5000):\n",
        "    x_temp += .0002\n",
        "    X_t.append(x_temp)\n",
        "    Y_hyp.append(newB[0]+newB[1]*x_temp+newB[2]*((x_temp)**2)+newB[3]*((x_temp)**3))\n",
        "plt.scatter(x1,y)\n",
        "plt.plot(X_t,Y_hyp, 'r')\n",
        "plt.show()"
      ],
      "execution_count": null,
      "outputs": [
        {
          "output_type": "display_data",
          "data": {
            "image/png": "[encoded data removed]",
            "text/plain": [
              "<Figure size 432x288 with 1 Axes>"
            ]
          },
          "metadata": {
            "tags": [],
            "needs_background": "light"
          }
        }
      ]
    },
    {
      "cell_type": "code",
      "metadata": {
        "colab": {
          "base_uri": "https://localhost:8080/"
        },
        "id": "Z_1YwcGdtlXh",
        "outputId": "401c87aa-1742-45dc-835b-d35f0ac06b5b"
      },
      "source": [
        "newB"
      ],
      "execution_count": null,
      "outputs": [
        {
          "output_type": "execute_result",
          "data": {
            "text/plain": [
              "array([  0.31395782,   4.88855301, -15.17371372,   9.08220883])"
            ]
          },
          "metadata": {
            "tags": []
          },
          "execution_count": 20
        }
      ]
    },
    {
      "cell_type": "markdown",
      "metadata": {
        "id": "HkCb1zyotuWW"
      },
      "source": [
        "# **Case 5: N = 4**\n",
        "i.e. Y = b0 + b1*x + b2*x2 + b3*x3 + b4*x4"
      ]
    },
    {
      "cell_type": "code",
      "metadata": {
        "colab": {
          "base_uri": "https://localhost:8080/",
          "height": 265
        },
        "id": "dnXyJZo3tzHY",
        "outputId": "e4ceb1c8-d824-48f6-9abd-d9b72beefa46"
      },
      "source": [
        "N = 4\n",
        "X, B, X_test = parameterX_n(N)\n",
        "Y = y_train\n",
        "alpha = 0.1\n",
        "\n",
        "#Training and Training Error\n",
        "newB, cost_history = gradient_descent(X, Y, B, alpha, 100000)  # 100000 Iterations\n",
        "train_error.append(cost_history[-1])\n",
        "\n",
        "updated_B = newB\n",
        "#Test Error\n",
        "test_error.append(cost_function(X_test, y_test, newB))\n",
        "\n",
        "#Learning Curve for Train Error\n",
        "time = []\n",
        "time_temp = 0\n",
        "for i in range(len(cost_history)):\n",
        "    time_temp += 1\n",
        "    time.append(time_temp)\n",
        "plt.plot(time,cost_history)\n",
        "plt.show()"
      ],
      "execution_count": null,
      "outputs": [
        {
          "output_type": "display_data",
          "data": {
            "image/png": "[encoded data removed]",
            "text/plain": [
              "<Figure size 432x288 with 1 Axes>"
            ]
          },
          "metadata": {
            "tags": [],
            "needs_background": "light"
          }
        }
      ]
    },
    {
      "cell_type": "markdown",
      "metadata": {
        "id": "P0BjHwuouCOq"
      },
      "source": [
        "# **Curve Fiting for N=4**"
      ]
    },
    {
      "cell_type": "code",
      "metadata": {
        "colab": {
          "base_uri": "https://localhost:8080/",
          "height": 265
        },
        "id": "l_483lzguFjF",
        "outputId": "695e8d27-d21a-4128-e56d-bd26de77fbd5"
      },
      "source": [
        "Y_hyp = []\n",
        "X_t = []\n",
        "x_temp = 0\n",
        "for i in range(5000):\n",
        "    x_temp += .0002\n",
        "    X_t.append(x_temp)\n",
        "    Y_hyp.append(newB[0]+newB[1]*x_temp+newB[2]*((x_temp)**2)+newB[3]*((x_temp)**3)+newB[4]*((x_temp)**4))\n",
        "plt.scatter(x1,y)\n",
        "plt.plot(X_t,Y_hyp, 'r')\n",
        "plt.show()"
      ],
      "execution_count": null,
      "outputs": [
        {
          "output_type": "display_data",
          "data": {
            "image/png": "[encoded data removed]",
            "text/plain": [
              "<Figure size 432x288 with 1 Axes>"
            ]
          },
          "metadata": {
            "tags": [],
            "needs_background": "light"
          }
        }
      ]
    },
    {
      "cell_type": "code",
      "metadata": {
        "colab": {
          "base_uri": "https://localhost:8080/"
        },
        "id": "xs5VR707uQlX",
        "outputId": "f9e30280-00f7-46db-f915-acdceb21747b"
      },
      "source": [
        "newB"
      ],
      "execution_count": null,
      "outputs": [
        {
          "output_type": "execute_result",
          "data": {
            "text/plain": [
              "array([  0.18231911,   6.76990754, -16.67424029,  -2.56139164,\n",
              "        12.84305789])"
            ]
          },
          "metadata": {
            "tags": []
          },
          "execution_count": 23
        }
      ]
    },
    {
      "cell_type": "markdown",
      "metadata": {
        "id": "RnKwRMqQuaIF"
      },
      "source": [
        "# **Case 6: N = 5**\n",
        "i.e. Y = b0 + b1*x + b2*x2 + b3*x3 + b4*x4 + b5*x5"
      ]
    },
    {
      "cell_type": "code",
      "metadata": {
        "colab": {
          "base_uri": "https://localhost:8080/",
          "height": 265
        },
        "id": "1hoo2PsDuuN6",
        "outputId": "76a1372b-40d5-4b6a-bd24-d3ecae065ee6"
      },
      "source": [
        "N = 5\n",
        "X, B, X_test = parameterX_n(N)\n",
        "Y = y_train\n",
        "alpha = 0.1\n",
        "\n",
        "#Training and Training Error\n",
        "newB, cost_history = gradient_descent(X, Y, B, alpha, 100000)  # 100000 Iterations\n",
        "train_error.append(cost_history[-1])\n",
        "\n",
        "#Test Error\n",
        "test_error.append(cost_function(X_test, y_test, newB))\n",
        "\n",
        "#Learning Curve for Train Error\n",
        "time = []\n",
        "time_temp = 0\n",
        "for i in range(len(cost_history)):\n",
        "    time_temp += 1\n",
        "    time.append(time_temp)\n",
        "plt.plot(time,cost_history)\n",
        "plt.show()"
      ],
      "execution_count": null,
      "outputs": [
        {
          "output_type": "display_data",
          "data": {
            "image/png": "[encoded data removed]",
            "text/plain": [
              "<Figure size 432x288 with 1 Axes>"
            ]
          },
          "metadata": {
            "tags": [],
            "needs_background": "light"
          }
        }
      ]
    },
    {
      "cell_type": "markdown",
      "metadata": {
        "id": "Ur6ElXL1vdQc"
      },
      "source": [
        "# **Curve Fiting for N=5**"
      ]
    },
    {
      "cell_type": "code",
      "metadata": {
        "colab": {
          "base_uri": "https://localhost:8080/",
          "height": 265
        },
        "id": "tHCEO5wCvhop",
        "outputId": "51489b65-66f9-4c2e-80cf-13b7dab18415"
      },
      "source": [
        "Y_hyp = []\n",
        "X_t = []\n",
        "x_temp = 0\n",
        "for i in range(5000):\n",
        "    x_temp += .0002\n",
        "    X_t.append(x_temp)\n",
        "    Y_hyp.append(newB[0]+newB[1]*x_temp+newB[2]*((x_temp)**2)+newB[3]*((x_temp)**3)+newB[4]*((x_temp)**4)+newB[5]*((x_temp)**5))\n",
        "plt.scatter(x1,y)\n",
        "plt.plot(X_t,Y_hyp, 'r')\n",
        "plt.show()"
      ],
      "execution_count": null,
      "outputs": [
        {
          "output_type": "display_data",
          "data": {
            "image/png": "[encoded data removed]",
            "text/plain": [
              "<Figure size 432x288 with 1 Axes>"
            ]
          },
          "metadata": {
            "tags": [],
            "needs_background": "light"
          }
        }
      ]
    },
    {
      "cell_type": "code",
      "metadata": {
        "colab": {
          "base_uri": "https://localhost:8080/"
        },
        "id": "szxUOPF2v3fp",
        "outputId": "f238c50b-5903-45cf-ef2d-bdbc120d93b8"
      },
      "source": [
        "newB"
      ],
      "execution_count": null,
      "outputs": [
        {
          "output_type": "execute_result",
          "data": {
            "text/plain": [
              "array([  0.13708934,   7.03874064, -14.82778932,  -6.49451258,\n",
              "         4.63472646,  11.49909317])"
            ]
          },
          "metadata": {
            "tags": []
          },
          "execution_count": 26
        }
      ]
    },
    {
      "cell_type": "markdown",
      "metadata": {
        "id": "5B2hibHev-T6"
      },
      "source": [
        "# **Case 7: N = 6**\n",
        "i.e. Y = b0 + b1*x + b2*x2 + b3*x3 + b4*x4 + b5*x5 + b6*x6"
      ]
    },
    {
      "cell_type": "code",
      "metadata": {
        "colab": {
          "base_uri": "https://localhost:8080/",
          "height": 265
        },
        "id": "oTz_UCAswCa5",
        "outputId": "6ae9265a-d404-42fb-ba83-849afcbe7584"
      },
      "source": [
        "N = 6\n",
        "X, B, X_test = parameterX_n(N)\n",
        "Y = y_train\n",
        "alpha = 0.1\n",
        "\n",
        "#Training and Training Error\n",
        "newB, cost_history = gradient_descent(X, Y, B, alpha, 100000)  # 100000 Iterations\n",
        "train_error.append(cost_history[-1])\n",
        "\n",
        "#Test Error\n",
        "test_error.append(cost_function(X_test, y_test, newB))\n",
        "\n",
        "#Learning Curve for Train Error\n",
        "time = []\n",
        "time_temp = 0\n",
        "for i in range(len(cost_history)):\n",
        "    time_temp += 1\n",
        "    time.append(time_temp)\n",
        "plt.plot(time,cost_history)\n",
        "plt.show()"
      ],
      "execution_count": null,
      "outputs": [
        {
          "output_type": "display_data",
          "data": {
            "image/png": "[encoded data removed]",
            "text/plain": [
              "<Figure size 432x288 with 1 Axes>"
            ]
          },
          "metadata": {
            "tags": [],
            "needs_background": "light"
          }
        }
      ]
    },
    {
      "cell_type": "markdown",
      "metadata": {
        "id": "0F90q7rlwQ2U"
      },
      "source": [
        "# **Curve Fiting for N=6**"
      ]
    },
    {
      "cell_type": "code",
      "metadata": {
        "colab": {
          "base_uri": "https://localhost:8080/",
          "height": 265
        },
        "id": "7GHFEJHKwUyF",
        "outputId": "091073de-4593-41d0-fa56-ae3b66f5ac4c"
      },
      "source": [
        "Y_hyp = []\n",
        "X_t = []\n",
        "x_temp = 0\n",
        "for i in range(5000):\n",
        "    x_temp += .0002\n",
        "    X_t.append(x_temp)\n",
        "    Y_hyp.append(newB[0]+newB[1]*x_temp+newB[2]*((x_temp)**2)+newB[3]*((x_temp)**3)+newB[4]*((x_temp)**4)+newB[5]*((x_temp)**5)+newB[6]*((x_temp)**6))\n",
        "plt.scatter(x1,y)\n",
        "plt.plot(X_t,Y_hyp, 'r')\n",
        "plt.show()"
      ],
      "execution_count": null,
      "outputs": [
        {
          "output_type": "display_data",
          "data": {
            "image/png": "[encoded data removed]",
            "text/plain": [
              "<Figure size 432x288 with 1 Axes>"
            ]
          },
          "metadata": {
            "tags": [],
            "needs_background": "light"
          }
        }
      ]
    },
    {
      "cell_type": "code",
      "metadata": {
        "colab": {
          "base_uri": "https://localhost:8080/"
        },
        "id": "mZuB1G3lwd5P",
        "outputId": "91abd1c0-6821-4687-d256-b506045e3480"
      },
      "source": [
        "newB"
      ],
      "execution_count": null,
      "outputs": [
        {
          "output_type": "execute_result",
          "data": {
            "text/plain": [
              "array([  0.12930791,   6.84365039, -13.0339099 ,  -7.66692807,\n",
              "         1.02971383,   6.70055079,   9.36210024])"
            ]
          },
          "metadata": {
            "tags": []
          },
          "execution_count": 29
        }
      ]
    },
    {
      "cell_type": "markdown",
      "metadata": {
        "id": "FtNQIh3vwjCZ"
      },
      "source": [
        "# **Case 8: N = 7**\n",
        "i.e. Y = b0 + b1*x + b2*x2 + b3*x3 + b4*x4 + b5*x5 + b6*x6 + b7*x7"
      ]
    },
    {
      "cell_type": "code",
      "metadata": {
        "colab": {
          "base_uri": "https://localhost:8080/",
          "height": 265
        },
        "id": "lyXmHAphwsVd",
        "outputId": "398f19f5-ccd0-4358-f2da-a0defba29f02"
      },
      "source": [
        "N = 7\n",
        "X, B, X_test = parameterX_n(N)\n",
        "Y = y_train\n",
        "alpha = 0.1\n",
        "\n",
        "#Training and Training Error\n",
        "newB, cost_history = gradient_descent(X, Y, B, alpha, 100000)  # 100000 Iterations\n",
        "train_error.append(cost_history[-1])\n",
        "\n",
        "#Test Error\n",
        "test_error.append(cost_function(X_test, y_test, newB))\n",
        "\n",
        "#Learning Curve for Train Error\n",
        "time = []\n",
        "time_temp = 0\n",
        "for i in range(len(cost_history)):\n",
        "    time_temp += 1\n",
        "    time.append(time_temp)\n",
        "plt.plot(time,cost_history)\n",
        "plt.show()"
      ],
      "execution_count": null,
      "outputs": [
        {
          "output_type": "display_data",
          "data": {
            "image/png": "[encoded data removed]",
            "text/plain": [
              "<Figure size 432x288 with 1 Axes>"
            ]
          },
          "metadata": {
            "tags": [],
            "needs_background": "light"
          }
        }
      ]
    },
    {
      "cell_type": "markdown",
      "metadata": {
        "id": "dYDz2wLlw6Da"
      },
      "source": [
        "# **Curve Fiting for N=7**"
      ]
    },
    {
      "cell_type": "code",
      "metadata": {
        "colab": {
          "base_uri": "https://localhost:8080/",
          "height": 267
        },
        "id": "vLTT3ABBw-A_",
        "outputId": "a5f4c77b-f6a1-47fb-863c-d8c0474f104e"
      },
      "source": [
        "Y_hyp = []\n",
        "X_t = []\n",
        "x_temp = 0\n",
        "for i in range(5000):\n",
        "    x_temp += .0002\n",
        "    X_t.append(x_temp)\n",
        "    Y_hyp.append(newB[0]+newB[1]*x_temp+newB[2]*((x_temp)**2)+newB[3]*((x_temp)**3)+newB[4]*((x_temp)**4)+newB[5]*((x_temp)**5)+newB[6]*((x_temp)**6)+newB[7]*((x_temp)**7))\n",
        "plt.scatter(x1,y)\n",
        "plt.plot(X_t,Y_hyp, 'r')\n",
        "plt.show()"
      ],
      "execution_count": null,
      "outputs": [
        {
          "output_type": "display_data",
          "data": {
            "image/png": "[encoded data removed]",
            "text/plain": [
              "<Figure size 432x288 with 1 Axes>"
            ]
          },
          "metadata": {
            "tags": [],
            "needs_background": "light"
          }
        }
      ]
    },
    {
      "cell_type": "code",
      "metadata": {
        "colab": {
          "base_uri": "https://localhost:8080/"
        },
        "id": "ox1GeGVexH7A",
        "outputId": "1f832f4f-a94c-4432-d6a5-4b33f7b9ac56"
      },
      "source": [
        "newB"
      ],
      "execution_count": null,
      "outputs": [
        {
          "output_type": "execute_result",
          "data": {
            "text/plain": [
              "array([  0.13149403,   6.61197672, -11.78572756,  -8.00421004,\n",
              "        -0.69489546,   4.26493506,   6.70626159,   7.51880176])"
            ]
          },
          "metadata": {
            "tags": []
          },
          "execution_count": 32
        }
      ]
    },
    {
      "cell_type": "markdown",
      "metadata": {
        "id": "Pf0R009hxQGo"
      },
      "source": [
        "# **Case 9: N = 8**\n",
        "i.e. Y = b0 + b1*x + b2*x2 + b3*x3 + b4*x4 + b5*x5 + b6*x6 + b7*x7 + b8*x8"
      ]
    },
    {
      "cell_type": "code",
      "metadata": {
        "colab": {
          "base_uri": "https://localhost:8080/",
          "height": 265
        },
        "id": "XtzbN9HZxVgi",
        "outputId": "039ca1b1-b4c3-433b-c93f-0592d840a84b"
      },
      "source": [
        "N = 8\n",
        "X, B, X_test = parameterX_n(N)\n",
        "Y = y_train\n",
        "alpha = 0.1\n",
        "\n",
        "#Training and Training Error\n",
        "newB, cost_history = gradient_descent(X, Y, B, alpha, 100000)  # 100000 Iterations\n",
        "train_error.append(cost_history[-1])\n",
        "\n",
        "#Test Error\n",
        "test_error.append(cost_function(X_test, y_test, newB))\n",
        "\n",
        "#Learning Curve for Train Error\n",
        "time = []\n",
        "time_temp = 0\n",
        "for i in range(len(cost_history)):\n",
        "    time_temp += 1\n",
        "    time.append(time_temp)\n",
        "plt.plot(time,cost_history)\n",
        "plt.show()"
      ],
      "execution_count": null,
      "outputs": [
        {
          "output_type": "display_data",
          "data": {
            "image/png": "[encoded data removed]",
            "text/plain": [
              "<Figure size 432x288 with 1 Axes>"
            ]
          },
          "metadata": {
            "tags": [],
            "needs_background": "light"
          }
        }
      ]
    },
    {
      "cell_type": "markdown",
      "metadata": {
        "id": "aUVORWx_xiNz"
      },
      "source": [
        "# **Curve Fiting for N=8**"
      ]
    },
    {
      "cell_type": "code",
      "metadata": {
        "colab": {
          "base_uri": "https://localhost:8080/",
          "height": 265
        },
        "id": "IpRA_BRExqP1",
        "outputId": "5e3740bc-cd7f-4bc1-a14e-62888b2953f0"
      },
      "source": [
        "Y_hyp = []\n",
        "X_t = []\n",
        "x_temp = 0\n",
        "for i in range(5000):\n",
        "    x_temp += .0002\n",
        "    X_t.append(x_temp)\n",
        "    Y_hyp.append(newB[0]+newB[1]*x_temp+newB[2]*((x_temp)**2)+newB[3]*((x_temp)**3)+newB[4]*((x_temp)**4)+newB[5]*((x_temp)**5)+newB[6]*((x_temp)**6)+newB[7]*((x_temp)**7)+newB[8]*((x_temp)**8))\n",
        "plt.scatter(x1,y)\n",
        "plt.plot(X_t,Y_hyp, 'r')\n",
        "plt.show()"
      ],
      "execution_count": null,
      "outputs": [
        {
          "output_type": "display_data",
          "data": {
            "image/png": "[encoded data removed]",
            "text/plain": [
              "<Figure size 432x288 with 1 Axes>"
            ]
          },
          "metadata": {
            "tags": [],
            "needs_background": "light"
          }
        }
      ]
    },
    {
      "cell_type": "code",
      "metadata": {
        "colab": {
          "base_uri": "https://localhost:8080/"
        },
        "id": "u7uFblffx0lv",
        "outputId": "c6c1999c-f5e8-4e6e-d617-4081ae860ea7"
      },
      "source": [
        "newB"
      ],
      "execution_count": null,
      "outputs": [
        {
          "output_type": "execute_result",
          "data": {
            "text/plain": [
              "array([  0.13525967,   6.4299353 , -10.96380724,  -8.09038967,\n",
              "        -1.60928085,   2.9152117 ,   5.21247578,   6.04526784,\n",
              "         6.07488153])"
            ]
          },
          "metadata": {
            "tags": []
          },
          "execution_count": 35
        }
      ]
    },
    {
      "cell_type": "markdown",
      "metadata": {
        "id": "xwpidi8bx6_g"
      },
      "source": [
        "# **Case 10: N = 9**\n",
        "i.e. Y = b0 + b1*x + b2*x2 + b3*x3 + b4*x4 + b5*x5 + b6*x6 + b7*x7 + b8*x8 + b9*x9"
      ]
    },
    {
      "cell_type": "code",
      "metadata": {
        "colab": {
          "base_uri": "https://localhost:8080/",
          "height": 265
        },
        "id": "Jf1-2e55x_tj",
        "outputId": "1833193e-1d36-4cbb-90de-bbdb61bbd7e0"
      },
      "source": [
        "N = 9\n",
        "X, B, X_test = parameterX_n(N)\n",
        "Y = y_train\n",
        "alpha = 0.1\n",
        "\n",
        "#Training and Training Error\n",
        "newB, cost_history = gradient_descent(X, Y, B, alpha, 100000)  # 100000 Iterations\n",
        "train_error.append(cost_history[-1])\n",
        "\n",
        "#Test Error\n",
        "test_error.append(cost_function(X_test, y_test, newB))\n",
        "\n",
        "#Learning Curve for Train Error\n",
        "time = []\n",
        "time_temp = 0\n",
        "for i in range(len(cost_history)):\n",
        "    time_temp += 1\n",
        "    time.append(time_temp)\n",
        "plt.plot(time,cost_history)\n",
        "plt.show()"
      ],
      "execution_count": null,
      "outputs": [
        {
          "output_type": "display_data",
          "data": {
            "image/png": "[encoded data removed]",
            "text/plain": [
              "<Figure size 432x288 with 1 Axes>"
            ]
          },
          "metadata": {
            "tags": [],
            "needs_background": "light"
          }
        }
      ]
    },
    {
      "cell_type": "markdown",
      "metadata": {
        "id": "XM7jePvfyLWZ"
      },
      "source": [
        "# **Curve Fiting for N=9**"
      ]
    },
    {
      "cell_type": "code",
      "metadata": {
        "colab": {
          "base_uri": "https://localhost:8080/",
          "height": 269
        },
        "id": "NV_M9Fn_yR6_",
        "outputId": "4875960c-805e-426d-947b-5138fdcfdc5e"
      },
      "source": [
        "Y_hyp = []\n",
        "X_t = []\n",
        "x_temp = 0\n",
        "for i in range(5000):\n",
        "    x_temp += .0002\n",
        "    X_t.append(x_temp)\n",
        "    Y_hyp.append(newB[0]+newB[1]*x_temp+newB[2]*((x_temp)**2)+newB[3]*((x_temp)**3)+newB[4]*((x_temp)**4)+newB[5]*((x_temp)**5)+newB[6]*((x_temp)**6)+newB[7]*((x_temp)**7)+newB[8]*((x_temp)**8)+newB[9]*((x_temp)**9))\n",
        "plt.scatter(x1,y)\n",
        "plt.plot(X_t,Y_hyp, 'r')\n",
        "plt.show()"
      ],
      "execution_count": null,
      "outputs": [
        {
          "output_type": "display_data",
          "data": {
            "image/png": "[encoded data removed]",
            "text/plain": [
              "<Figure size 432x288 with 1 Axes>"
            ]
          },
          "metadata": {
            "tags": [],
            "needs_background": "light"
          }
        }
      ]
    },
    {
      "cell_type": "code",
      "metadata": {
        "colab": {
          "base_uri": "https://localhost:8080/"
        },
        "id": "Ee23as4oyftZ",
        "outputId": "6d106a1b-e9ab-4545-838e-c042f931f1a0"
      },
      "source": [
        "newB"
      ],
      "execution_count": null,
      "outputs": [
        {
          "output_type": "execute_result",
          "data": {
            "text/plain": [
              "array([  0.13857516,   6.29907015, -10.42042004,  -8.10086989,\n",
              "        -2.13846989,   2.10916622,   4.31137821,   5.15237348,\n",
              "         5.24039918,   4.95913973])"
            ]
          },
          "metadata": {
            "tags": []
          },
          "execution_count": 38
        }
      ]
    },
    {
      "cell_type": "markdown",
      "metadata": {
        "id": "f-v8ylDAyq1b"
      },
      "source": [
        "# **Train Error vs Test Error**"
      ]
    },
    {
      "cell_type": "code",
      "metadata": {
        "colab": {
          "base_uri": "https://localhost:8080/",
          "height": 295
        },
        "id": "MnzX90GLywtP",
        "outputId": "7043b8f9-bcc4-4d77-c0d3-7b6e9ee33229"
      },
      "source": [
        "X_N = [0,1,2,3,4,5,6,7,8,9]\n",
        "plt.plot(X_N,train_error, 'r', label='Train Error')\n",
        "plt.plot(X_N,test_error, 'b', label='Test Error')\n",
        "plt.title('Train Error vs Test Error')\n",
        "plt.ylabel('Error')\n",
        "plt.xlabel('N')\n",
        "plt.legend()\n",
        "plt.grid()\n",
        "plt.xticks(np.arange(0, 10, step=1))\n",
        "plt.show()"
      ],
      "execution_count": null,
      "outputs": [
        {
          "output_type": "display_data",
          "data": {
            "image/png": "[encoded data removed]",
            "text/plain": [
              "<Figure size 432x288 with 1 Axes>"
            ]
          },
          "metadata": {
            "tags": [],
            "needs_background": "light"
          }
        }
      ]
    },
    {
      "cell_type": "markdown",
      "metadata": {
        "id": "kVDD6dnBzCnA"
      },
      "source": [
        "Test Error is recorded in the list test_error. Test Error correspoding to N is given by test_error[n]\n",
        "\n",
        "From the above plot we can conclude that N = 1 is the best fit because the test error is minimum. For N>1 there is overfitting, as the test error stats increasing thus N>1 is ignored."
      ]
    },
    {
      "cell_type": "markdown",
      "metadata": {
        "id": "mfYQ3XrezHVt"
      },
      "source": [
        "# **RMSE vs learning rate**\n",
        "For N=1; i.e. Y = B0 + B1*X1"
      ]
    },
    {
      "cell_type": "code",
      "metadata": {
        "id": "-1GkvUzazNdr"
      },
      "source": [
        "# Model Evaluation - RMSE\n",
        "def rmse(Y, Y_pred):\n",
        "    rmse = np.sqrt(sum((Y - Y_pred) ** 2) / len(Y))\n",
        "    return rmse\n",
        "\n",
        "N = 1\n",
        "X, B, X_test = parameterX_n(N)\n",
        "Y = y_train\n",
        "rmse_value = []\n",
        "\n",
        "for i in range(5):\n",
        "    if i==0:\n",
        "        alpha = 0.025\n",
        "    elif i==1:\n",
        "        alpha = 0.05\n",
        "    elif i==2:\n",
        "        alpha = 0.1\n",
        "    elif i==3:\n",
        "        alpha = 0.2\n",
        "    elif i==4:\n",
        "        alpha = 0.5\n",
        "    \n",
        "    newB, cost_history = gradient_descent(X, Y, B, alpha, 100000)\n",
        "    if alpha == 0.1:\n",
        "        final_train_cost = cost_history[-1]\n",
        "        final_test_cost = cost_function(X_test, y_test, newB)\n",
        "    Y_pred = X_test.dot(newB)\n",
        "    rmse_value.append(rmse(y_test, Y_pred))"
      ],
      "execution_count": null,
      "outputs": []
    },
    {
      "cell_type": "code",
      "metadata": {
        "colab": {
          "base_uri": "https://localhost:8080/",
          "height": 310
        },
        "id": "69RJYFImzhGB",
        "outputId": "0f8d4fdb-5680-4975-a3a0-76d8c2316c7e"
      },
      "source": [
        "X_N = [0.025,0.05,0.1,0.2,0.5]\n",
        "plt.plot(X_N,rmse_value)\n",
        "plt.title('Test RMSE vs Learning Rate\\n     ')\n",
        "plt.ylabel('Test RMSE/')\n",
        "plt.xlabel('Learning Rate')\n",
        "# plt.legend()\n",
        "plt.grid()\n",
        "plt.xticks(np.arange(0, 0.6, step=0.05))\n",
        "plt.scatter(X_N,rmse_value)\n",
        "plt.show()"
      ],
      "execution_count": null,
      "outputs": [
        {
          "output_type": "display_data",
          "data": {
            "image/png": "[encoded data removed]",
            "text/plain": [
              "<Figure size 432x288 with 1 Axes>"
            ]
          },
          "metadata": {
            "tags": [],
            "needs_background": "light"
          }
        }
      ]
    },
    {
      "cell_type": "code",
      "metadata": {
        "colab": {
          "base_uri": "https://localhost:8080/"
        },
        "id": "dwcSTatrz6h-",
        "outputId": "8c6c2c3d-a56b-477d-d854-de6cd5350ff3"
      },
      "source": [
        "print(final_train_cost, ',', final_test_cost)"
      ],
      "execution_count": null,
      "outputs": [
        {
          "output_type": "stream",
          "text": [
            "0.21006115567705655 , 0.430112912615362\n"
          ],
          "name": "stdout"
        }
      ]
    },
    {
      "cell_type": "markdown",
      "metadata": {
        "id": "LJe59dr10Kpn"
      },
      "source": [
        "# **Q.2. Visualization of the dataset and the fitted curves**\n",
        "(a) Draw separate plots of the synthetic data points generated in 1 (a), and all 9 different\n",
        "curves that you have fit for the given dataset in 1 (c).\n",
        "(b) Report squared error on both train and test data for each value of n in the form of a\n",
        "plot where along x-axis, vary n from 1 to 9 and along y-axis, plot both train error and\n",
        "test error. Explain which value of n is suitable for the synthetic dataset that you have\n",
        "generated and why"
      ]
    },
    {
      "cell_type": "code",
      "metadata": {
        "id": "KW1_DIXP6XcI"
      },
      "source": [
        "def cost_function(X, Y, B):\n",
        "    m = len(Y)\n",
        "    J = np.sum((X.dot(B) - Y) ** 2)/(2 * m)\n",
        "    return J"
      ],
      "execution_count": null,
      "outputs": []
    },
    {
      "cell_type": "code",
      "metadata": {
        "id": "wnA8lT1m6evO"
      },
      "source": [
        "def gradient_descent(X, Y, B, alpha, iterations):\n",
        "    cost_history = [0] * iterations\n",
        "    m = len(Y)\n",
        "    \n",
        "    for iteration in range(iterations):\n",
        "        # Hypothesis Values\n",
        "        h = X.dot(B)\n",
        "        # Difference b/w Hypothesis and Actual Y\n",
        "        loss = h - Y\n",
        "        # Gradient Calculation\n",
        "        gradient = X.T.dot(loss) / m\n",
        "        # Changing Values of B using Gradient\n",
        "        B = B - alpha * gradient\n",
        "        # New Cost Value\n",
        "        cost = cost_function(X, Y, B)\n",
        "        cost_history[iteration] = cost\n",
        "#         print(cost)\n",
        "        \n",
        "    return B, cost_history"
      ],
      "execution_count": null,
      "outputs": []
    },
    {
      "cell_type": "code",
      "metadata": {
        "id": "Xkk0cQIF6sc_"
      },
      "source": [
        "def parameterX_n(n):\n",
        "    m = len(x_train)\n",
        "    x0 = np.ones(m)\n",
        "    \n",
        "    m2 = len(x_test)\n",
        "    x0_test = np.ones(m2)\n",
        "    #Taking transpose of X matrix\n",
        "    # X = np.array([x0]).T\n",
        "    if n ==0:\n",
        "        X = np.array([x0]).T\n",
        "        B = np.array([0])\n",
        "        X_test = np.array([x0_test]).T\n",
        "    elif n==1:\n",
        "        X = np.array([x0, x_train]).T\n",
        "        B = np.array([0, 0])\n",
        "        X_test = np.array([x0_test, x_test]).T\n",
        "    elif n==2:\n",
        "        X = np.array([x0, x_train, x2]).T\n",
        "        B = np.array([0, 0, 0])\n",
        "        X_test = np.array([x0_test, x_test, x2_test]).T\n",
        "    elif n==3:\n",
        "        X = np.array([x0, x_train, x2, x3]).T\n",
        "        B = np.array([0, 0, 0, 0])\n",
        "        X_test = np.array([x0_test, x_test, x2_test, x3_test]).T\n",
        "    elif n==4:\n",
        "        X = np.array([x0, x_train, x2, x3, x4]).T\n",
        "        B = np.array([0, 0, 0, 0, 0])\n",
        "        X_test = np.array([x0_test, x_test, x2_test, x3_test, x4_test]).T\n",
        "    elif n==5:\n",
        "        X = np.array([x0, x_train, x2, x3, x4, x5]).T\n",
        "        B = np.array([0, 0, 0, 0, 0, 0])\n",
        "        X_test = np.array([x0_test, x_test, x2_test, x3_test, x4_test, x5_test]).T\n",
        "    elif n==6:\n",
        "        X = np.array([x0, x_train, x2, x3, x4, x5, x6]).T\n",
        "        B = np.array([0, 0, 0, 0, 0, 0, 0])\n",
        "        X_test = np.array([x0_test, x_test, x2_test, x3_test, x4_test, x5_test, x6_test]).T\n",
        "    elif n==7:\n",
        "        X = np.array([x0, x_train, x2, x3, x4, x5, x6, x7]).T\n",
        "        B = np.array([0, 0, 0, 0, 0, 0, 0, 0])\n",
        "        X_test = np.array([x0_test, x_test, x2_test, x3_test, x4_test, x5_test, x6_test, x7_test]).T\n",
        "    elif n==8:\n",
        "        X = np.array([x0, x_train, x2, x3, x4, x5, x6, x7, x8]).T\n",
        "        B = np.array([0, 0, 0, 0, 0, 0, 0, 0, 0])\n",
        "        X_test = np.array([x0_test, x_test, x2_test, x3_test, x4_test, x5_test, x6_test, x7_test, x8_test]).T\n",
        "    elif n==9:\n",
        "        X = np.array([x0, x_train, x2, x3, x4, x5, x6, x7, x8, x9]).T\n",
        "        B = np.array([0, 0, 0, 0, 0, 0, 0, 0, 0, 0])\n",
        "        X_test = np.array([x0_test, x_test, x2_test, x3_test, x4_test, x5_test, x6_test, x7_test, x8_test, x9_test]).T   \n",
        "    return X, B, X_test"
      ],
      "execution_count": null,
      "outputs": []
    },
    {
      "cell_type": "markdown",
      "metadata": {
        "id": "5Dai8ESA2IVw"
      },
      "source": [
        "# **Case 1: N = 0**\n",
        "i.e. Y = b0"
      ]
    },
    {
      "cell_type": "code",
      "metadata": {
        "colab": {
          "base_uri": "https://localhost:8080/",
          "height": 265
        },
        "id": "FkVcczus7Pd5",
        "outputId": "aa43cca5-2418-45cb-c999-a989ba8662b9"
      },
      "source": [
        "N = 0 \n",
        "X, B, X_test = parameterX_n(N)\n",
        "Y = y_train\n",
        "alpha = 0.1\n",
        "\n",
        "#Training and Training Error\n",
        "newB, cost_history = gradient_descent(X, Y, B, alpha, 100000)  # 100000 Iterations\n",
        "train_error.append(cost_history[-1])\n",
        "\n",
        "#Test Error\n",
        "test_error.append(cost_function(X_test, y_test, newB))\n",
        "\n",
        "#Learning Curve for Train Error\n",
        "time = []\n",
        "time_temp = 0\n",
        "for i in range(len(cost_history)):\n",
        "    time_temp += 1\n",
        "    time.append(time_temp)\n",
        "plt.plot(time,cost_history)\n",
        "plt.show()\n"
      ],
      "execution_count": null,
      "outputs": [
        {
          "output_type": "display_data",
          "data": {
            "image/png": "[encoded data removed]",
            "text/plain": [
              "<Figure size 432x288 with 1 Axes>"
            ]
          },
          "metadata": {
            "tags": [],
            "needs_background": "light"
          }
        }
      ]
    },
    {
      "cell_type": "markdown",
      "metadata": {
        "id": "KXOgIVPc3B2d"
      },
      "source": [
        "# **Curve Fiting for N=0**"
      ]
    },
    {
      "cell_type": "code",
      "metadata": {
        "colab": {
          "base_uri": "https://localhost:8080/",
          "height": 265
        },
        "id": "8-dKvIjy7alU",
        "outputId": "13cbe701-87fb-469b-caae-64b14e44f0c1"
      },
      "source": [
        "#Curve Fiting\n",
        "Y_hyp = []\n",
        "X_t = []\n",
        "x_temp = 0\n",
        "for i in range(5000):\n",
        "    x_temp += .0002\n",
        "    X_t.append(x_temp)\n",
        "    Y_hyp.append(newB[0])\n",
        "plt.scatter(x1,y)\n",
        "plt.plot(X_t,Y_hyp)\n",
        "plt.show()"
      ],
      "execution_count": null,
      "outputs": [
        {
          "output_type": "display_data",
          "data": {
            "image/png": "[encoded data removed]",
            "text/plain": [
              "<Figure size 432x288 with 1 Axes>"
            ]
          },
          "metadata": {
            "tags": [],
            "needs_background": "light"
          }
        }
      ]
    },
    {
      "cell_type": "code",
      "metadata": {
        "colab": {
          "base_uri": "https://localhost:8080/"
        },
        "id": "DlHWrvGE7naL",
        "outputId": "c00b0668-2048-43d5-896c-72ed2fe09ca7"
      },
      "source": [
        "newB"
      ],
      "execution_count": null,
      "outputs": [
        {
          "output_type": "execute_result",
          "data": {
            "text/plain": [
              "array([0.34764838])"
            ]
          },
          "metadata": {
            "tags": []
          },
          "execution_count": 58
        }
      ]
    },
    {
      "cell_type": "markdown",
      "metadata": {
        "id": "puqrMkmMBZgM"
      },
      "source": [
        "# **Case 2: N = 1**\n",
        "i.e. Y = b0 + b1*x"
      ]
    },
    {
      "cell_type": "code",
      "metadata": {
        "colab": {
          "base_uri": "https://localhost:8080/",
          "height": 265
        },
        "id": "luI5elFaBduo",
        "outputId": "ccde1099-4fa6-4504-d43a-b2860fdcb60d"
      },
      "source": [
        "N = 1\n",
        "X, B, X_test = parameterX_n(N)\n",
        "Y = y_train\n",
        "alpha = 0.1\n",
        "\n",
        "#Training and Training Error\n",
        "newB, cost_history = gradient_descent(X, Y, B, alpha, 100000)  # 100000 Iterations\n",
        "train_error.append(cost_history[-1])\n",
        "\n",
        "#Test Error\n",
        "test_error.append(cost_function(X_test, y_test, newB))\n",
        "\n",
        "#Learning Curve for Train Error\n",
        "time = []\n",
        "time_temp = 0\n",
        "for i in range(len(cost_history)):\n",
        "    time_temp += 1\n",
        "    time.append(time_temp)\n",
        "plt.plot(time,cost_history)\n",
        "plt.show()"
      ],
      "execution_count": null,
      "outputs": [
        {
          "output_type": "display_data",
          "data": {
            "image/png": "[encoded data removed]",
            "text/plain": [
              "<Figure size 432x288 with 1 Axes>"
            ]
          },
          "metadata": {
            "tags": [],
            "needs_background": "light"
          }
        }
      ]
    },
    {
      "cell_type": "markdown",
      "metadata": {
        "id": "oNf_HWX_BzqJ"
      },
      "source": [
        "# **Curve Fiting for N=1**"
      ]
    },
    {
      "cell_type": "code",
      "metadata": {
        "colab": {
          "base_uri": "https://localhost:8080/",
          "height": 265
        },
        "id": "Pl5IJHPFB3Zl",
        "outputId": "90953968-6f40-4351-a93c-ce3b94067f66"
      },
      "source": [
        "Y_hyp = []\n",
        "X_t = []\n",
        "x_temp = 0\n",
        "for i in range(5000):\n",
        "    x_temp += .0002\n",
        "    X_t.append(x_temp)\n",
        "    Y_hyp.append(newB[0]+newB[1]*x_temp)\n",
        "plt.scatter(x1,y)\n",
        "plt.plot(X_t,Y_hyp)\n",
        "plt.show()"
      ],
      "execution_count": null,
      "outputs": [
        {
          "output_type": "display_data",
          "data": {
            "image/png": "[encoded data removed]",
            "text/plain": [
              "<Figure size 432x288 with 1 Axes>"
            ]
          },
          "metadata": {
            "tags": [],
            "needs_background": "light"
          }
        }
      ]
    },
    {
      "cell_type": "code",
      "metadata": {
        "colab": {
          "base_uri": "https://localhost:8080/"
        },
        "id": "va9fOW3CCHm2",
        "outputId": "6742da0b-73fc-4eee-9eca-cc2ecf83ac2c"
      },
      "source": [
        "newB"
      ],
      "execution_count": null,
      "outputs": [
        {
          "output_type": "execute_result",
          "data": {
            "text/plain": [
              "array([ 0.85138851, -1.69917373])"
            ]
          },
          "metadata": {
            "tags": []
          },
          "execution_count": 61
        }
      ]
    },
    {
      "cell_type": "markdown",
      "metadata": {
        "id": "7xuDS2QxCXET"
      },
      "source": [
        "# **Case 3: N = 2**\n",
        "i.e. Y = b0 + b1*x + b2*x2"
      ]
    },
    {
      "cell_type": "code",
      "metadata": {
        "colab": {
          "base_uri": "https://localhost:8080/",
          "height": 265
        },
        "id": "PNBIuUEMCeJz",
        "outputId": "97c69a8e-74de-4dd7-ae21-ead7c6d267f6"
      },
      "source": [
        "N = 2\n",
        "X, B, X_test = parameterX_n(N)\n",
        "Y = y_train\n",
        "alpha = 0.1\n",
        "\n",
        "#Training and Training Error\n",
        "newB, cost_history = gradient_descent(X, Y, B, alpha, 100000)  # 100000 Iterations\n",
        "train_error.append(cost_history[-1])\n",
        "\n",
        "#Test Error\n",
        "test_error.append(cost_function(X_test, y_test, newB))\n",
        "\n",
        "#Learning Curve for Train Error\n",
        "time = []\n",
        "time_temp = 0\n",
        "for i in range(len(cost_history)):\n",
        "    time_temp += 1\n",
        "    time.append(time_temp)\n",
        "plt.plot(time,cost_history)\n",
        "plt.show()"
      ],
      "execution_count": null,
      "outputs": [
        {
          "output_type": "display_data",
          "data": {
            "image/png": "[encoded data removed]",
            "text/plain": [
              "<Figure size 432x288 with 1 Axes>"
            ]
          },
          "metadata": {
            "tags": [],
            "needs_background": "light"
          }
        }
      ]
    },
    {
      "cell_type": "markdown",
      "metadata": {
        "id": "IEP8oejvC7yY"
      },
      "source": [
        "# **Curve Fiting for N=2**"
      ]
    },
    {
      "cell_type": "code",
      "metadata": {
        "colab": {
          "base_uri": "https://localhost:8080/",
          "height": 265
        },
        "id": "mt-0jn9aC-vH",
        "outputId": "38e416c0-c228-4bf2-9055-0fbc0693e8cf"
      },
      "source": [
        "Y_hyp = []\n",
        "X_t = []\n",
        "x_temp = 0\n",
        "for i in range(5000):\n",
        "    x_temp += .0002\n",
        "    X_t.append(x_temp)\n",
        "    Y_hyp.append(newB[0]+newB[1]*x_temp+newB[2]*((x_temp)**2))\n",
        "plt.scatter(x1,y)\n",
        "plt.plot(X_t,Y_hyp)\n",
        "plt.show()"
      ],
      "execution_count": null,
      "outputs": [
        {
          "output_type": "display_data",
          "data": {
            "image/png": "[encoded data removed]",
            "text/plain": [
              "<Figure size 432x288 with 1 Axes>"
            ]
          },
          "metadata": {
            "tags": [],
            "needs_background": "light"
          }
        }
      ]
    },
    {
      "cell_type": "code",
      "metadata": {
        "colab": {
          "base_uri": "https://localhost:8080/"
        },
        "id": "arYdDnXWDSi7",
        "outputId": "29e60c34-a4da-4676-e305-e8e5fc29db88"
      },
      "source": [
        "newB"
      ],
      "execution_count": null,
      "outputs": [
        {
          "output_type": "execute_result",
          "data": {
            "text/plain": [
              "array([ 0.45620438,  1.72283839, -3.93278372])"
            ]
          },
          "metadata": {
            "tags": []
          },
          "execution_count": 64
        }
      ]
    },
    {
      "cell_type": "markdown",
      "metadata": {
        "id": "c-5SD8GQD6nz"
      },
      "source": [
        "# **Case 4: N = 3**\n",
        "i.e. Y = b0 + b1*x + b2*x2 + b3*x3"
      ]
    },
    {
      "cell_type": "code",
      "metadata": {
        "colab": {
          "base_uri": "https://localhost:8080/",
          "height": 265
        },
        "id": "v5kNF3-KD-Ag",
        "outputId": "d0db0bcd-7f34-48c4-d5c2-0237b221eb3b"
      },
      "source": [
        "N = 3\n",
        "X, B, X_test = parameterX_n(N)\n",
        "Y = y_train\n",
        "alpha = 0.1\n",
        "\n",
        "#Training and Training Error\n",
        "newB, cost_history = gradient_descent(X, Y, B, alpha, 100000)  # 100000 Iterations\n",
        "train_error.append(cost_history[-1])\n",
        "\n",
        "#Test Error\n",
        "test_error.append(cost_function(X_test, y_test, newB))\n",
        "\n",
        "#Learning Curve for Train Error\n",
        "time = []\n",
        "time_temp = 0\n",
        "for i in range(len(cost_history)):\n",
        "    time_temp += 1\n",
        "    time.append(time_temp)\n",
        "plt.plot(time,cost_history)\n",
        "plt.show()"
      ],
      "execution_count": null,
      "outputs": [
        {
          "output_type": "display_data",
          "data": {
            "image/png": "[encoded data removed]",
            "text/plain": [
              "<Figure size 432x288 with 1 Axes>"
            ]
          },
          "metadata": {
            "tags": [],
            "needs_background": "light"
          }
        }
      ]
    },
    {
      "cell_type": "markdown",
      "metadata": {
        "id": "4x4GGC38ESp1"
      },
      "source": [
        "# **Curve Fiting for N=3**"
      ]
    },
    {
      "cell_type": "code",
      "metadata": {
        "colab": {
          "base_uri": "https://localhost:8080/",
          "height": 265
        },
        "id": "L8maMT5PEVvZ",
        "outputId": "40a9856a-2516-4463-92de-7b60afef0f8f"
      },
      "source": [
        "Y_hyp = []\n",
        "X_t = []\n",
        "x_temp = 0\n",
        "for i in range(5000):\n",
        "    x_temp += .0002\n",
        "    X_t.append(x_temp)\n",
        "    Y_hyp.append(newB[0]+newB[1]*x_temp+newB[2]*((x_temp)**2)+newB[3]*((x_temp)**3))\n",
        "plt.scatter(x1,y)\n",
        "plt.plot(X_t,Y_hyp)\n",
        "plt.show()"
      ],
      "execution_count": null,
      "outputs": [
        {
          "output_type": "display_data",
          "data": {
            "image/png": "[encoded data removed]",
            "text/plain": [
              "<Figure size 432x288 with 1 Axes>"
            ]
          },
          "metadata": {
            "tags": [],
            "needs_background": "light"
          }
        }
      ]
    },
    {
      "cell_type": "code",
      "metadata": {
        "colab": {
          "base_uri": "https://localhost:8080/"
        },
        "id": "a5ULSI9JEnjq",
        "outputId": "a7c41235-8932-476a-81ab-4488b50fe804"
      },
      "source": [
        "newB"
      ],
      "execution_count": null,
      "outputs": [
        {
          "output_type": "execute_result",
          "data": {
            "text/plain": [
              "array([  0.31395782,   4.88855301, -15.17371372,   9.08220883])"
            ]
          },
          "metadata": {
            "tags": []
          },
          "execution_count": 67
        }
      ]
    },
    {
      "cell_type": "markdown",
      "metadata": {
        "id": "8MwJsEXwEqyR"
      },
      "source": [
        "# **Case 5: N = 4**\n",
        "i.e. Y = b0 + b1*x + b2*x2 + b3*x3 + b4*x4"
      ]
    },
    {
      "cell_type": "code",
      "metadata": {
        "colab": {
          "base_uri": "https://localhost:8080/",
          "height": 265
        },
        "id": "dRorV8pcEygY",
        "outputId": "29b41b3c-dc50-4ded-fd7a-5e7d4daad8b9"
      },
      "source": [
        "N = 4\n",
        "X, B, X_test = parameterX_n(N)\n",
        "Y = y_train\n",
        "alpha = 0.1\n",
        "\n",
        "#Training and Training Error\n",
        "newB, cost_history = gradient_descent(X, Y, B, alpha, 100000)  # 100000 Iterations\n",
        "train_error.append(cost_history[-1])\n",
        "\n",
        "updated_B = newB\n",
        "#Test Error\n",
        "test_error.append(cost_function(X_test, y_test, newB))\n",
        "\n",
        "#Learning Curve for Train Error\n",
        "time = []\n",
        "time_temp = 0\n",
        "for i in range(len(cost_history)):\n",
        "    time_temp += 1\n",
        "    time.append(time_temp)\n",
        "plt.plot(time,cost_history)\n",
        "plt.show()"
      ],
      "execution_count": null,
      "outputs": [
        {
          "output_type": "display_data",
          "data": {
            "image/png": "[encoded data removed]",
            "text/plain": [
              "<Figure size 432x288 with 1 Axes>"
            ]
          },
          "metadata": {
            "tags": [],
            "needs_background": "light"
          }
        }
      ]
    },
    {
      "cell_type": "markdown",
      "metadata": {
        "id": "IFBz0DztFJCV"
      },
      "source": [
        "# **Curve Fiting for N=4**"
      ]
    },
    {
      "cell_type": "code",
      "metadata": {
        "colab": {
          "base_uri": "https://localhost:8080/",
          "height": 265
        },
        "id": "E4J5tgZwFHqO",
        "outputId": "ceeb93cc-1d81-43ac-ee94-7f6f5eca1abe"
      },
      "source": [
        "Y_hyp = []\n",
        "X_t = []\n",
        "x_temp = 0\n",
        "for i in range(5000):\n",
        "    x_temp += .0002\n",
        "    X_t.append(x_temp)\n",
        "    Y_hyp.append(newB[0]+newB[1]*x_temp+newB[2]*((x_temp)**2)+newB[3]*((x_temp)**3)+newB[4]*((x_temp)**4))\n",
        "plt.scatter(x1,y)\n",
        "plt.plot(X_t,Y_hyp)\n",
        "plt.show()"
      ],
      "execution_count": null,
      "outputs": [
        {
          "output_type": "display_data",
          "data": {
            "image/png": "[encoded data removed]",
            "text/plain": [
              "<Figure size 432x288 with 1 Axes>"
            ]
          },
          "metadata": {
            "tags": [],
            "needs_background": "light"
          }
        }
      ]
    },
    {
      "cell_type": "code",
      "metadata": {
        "colab": {
          "base_uri": "https://localhost:8080/"
        },
        "id": "kUWmmFciFpkj",
        "outputId": "e971ed0f-a3e3-4745-d61b-4dcb73f8836e"
      },
      "source": [
        "newB"
      ],
      "execution_count": null,
      "outputs": [
        {
          "output_type": "execute_result",
          "data": {
            "text/plain": [
              "array([  0.18231911,   6.76990754, -16.67424029,  -2.56139164,\n",
              "        12.84305789])"
            ]
          },
          "metadata": {
            "tags": []
          },
          "execution_count": 70
        }
      ]
    },
    {
      "cell_type": "markdown",
      "metadata": {
        "id": "jFBhRLEEFu2r"
      },
      "source": [
        "# **Case 6: N = 5**\n",
        "i.e. Y = b0 + b1*x + b2*x2 + b3*x3 + b4*x4 + b5*x5"
      ]
    },
    {
      "cell_type": "code",
      "metadata": {
        "colab": {
          "base_uri": "https://localhost:8080/",
          "height": 265
        },
        "id": "ysoaIsTtFzUD",
        "outputId": "2c58acf8-0136-401c-8c00-765374614574"
      },
      "source": [
        "N = 5\n",
        "X, B, X_test = parameterX_n(N)\n",
        "Y = y_train\n",
        "alpha = 0.1\n",
        "\n",
        "#Training and Training Error\n",
        "newB, cost_history = gradient_descent(X, Y, B, alpha, 100000)  # 100000 Iterations\n",
        "train_error.append(cost_history[-1])\n",
        "\n",
        "#Test Error\n",
        "test_error.append(cost_function(X_test, y_test, newB))\n",
        "\n",
        "#Learning Curve for Train Error\n",
        "time = []\n",
        "time_temp = 0\n",
        "for i in range(len(cost_history)):\n",
        "    time_temp += 1\n",
        "    time.append(time_temp)\n",
        "plt.plot(time,cost_history)\n",
        "plt.show()"
      ],
      "execution_count": null,
      "outputs": [
        {
          "output_type": "display_data",
          "data": {
            "image/png": "[encoded data removed]",
            "text/plain": [
              "<Figure size 432x288 with 1 Axes>"
            ]
          },
          "metadata": {
            "tags": [],
            "needs_background": "light"
          }
        }
      ]
    },
    {
      "cell_type": "markdown",
      "metadata": {
        "id": "CvF7UNu5F_yz"
      },
      "source": [
        "# **Curve Fiting for N=5**"
      ]
    },
    {
      "cell_type": "code",
      "metadata": {
        "colab": {
          "base_uri": "https://localhost:8080/",
          "height": 265
        },
        "id": "69V1orVsGHfz",
        "outputId": "35ae8f2f-00dd-4885-febd-86a379af342d"
      },
      "source": [
        "Y_hyp = []\n",
        "X_t = []\n",
        "x_temp = 0\n",
        "for i in range(5000):\n",
        "    x_temp += .0002\n",
        "    X_t.append(x_temp)\n",
        "    Y_hyp.append(newB[0]+newB[1]*x_temp+newB[2]*((x_temp)**2)+newB[3]*((x_temp)**3)+newB[4]*((x_temp)**4)+newB[5]*((x_temp)**5))\n",
        "plt.scatter(x1,y)\n",
        "plt.plot(X_t,Y_hyp)\n",
        "plt.show()"
      ],
      "execution_count": null,
      "outputs": [
        {
          "output_type": "display_data",
          "data": {
            "image/png": "[encoded data removed]",
            "text/plain": [
              "<Figure size 432x288 with 1 Axes>"
            ]
          },
          "metadata": {
            "tags": [],
            "needs_background": "light"
          }
        }
      ]
    },
    {
      "cell_type": "code",
      "metadata": {
        "colab": {
          "base_uri": "https://localhost:8080/"
        },
        "id": "oiK18uNVGUO8",
        "outputId": "2d6ab769-16c7-40e4-a7da-34f1a128c7fe"
      },
      "source": [
        "newB"
      ],
      "execution_count": null,
      "outputs": [
        {
          "output_type": "execute_result",
          "data": {
            "text/plain": [
              "array([  0.13708934,   7.03874064, -14.82778932,  -6.49451258,\n",
              "         4.63472646,  11.49909317])"
            ]
          },
          "metadata": {
            "tags": []
          },
          "execution_count": 73
        }
      ]
    },
    {
      "cell_type": "markdown",
      "metadata": {
        "id": "cyfh0vL0GYt3"
      },
      "source": [
        "# **Case 7: N = 6**\n",
        "i.e. Y = b0 + b1*x + b2*x2 + b3*x3 + b4*x4 + b5*x5 + b6*x6 "
      ]
    },
    {
      "cell_type": "code",
      "metadata": {
        "colab": {
          "base_uri": "https://localhost:8080/",
          "height": 265
        },
        "id": "nSJfausTGeRc",
        "outputId": "606de9df-71cf-468a-ac37-16b5f18e5cce"
      },
      "source": [
        "N = 6\n",
        "X, B, X_test = parameterX_n(N)\n",
        "Y = y_train\n",
        "alpha = 0.1\n",
        "\n",
        "#Training and Training Error\n",
        "newB, cost_history = gradient_descent(X, Y, B, alpha, 100000)  # 100000 Iterations\n",
        "train_error.append(cost_history[-1])\n",
        "\n",
        "#Test Error\n",
        "test_error.append(cost_function(X_test, y_test, newB))\n",
        "\n",
        "#Learning Curve for Train Error\n",
        "time = []\n",
        "time_temp = 0\n",
        "for i in range(len(cost_history)):\n",
        "    time_temp += 1\n",
        "    time.append(time_temp)\n",
        "plt.plot(time,cost_history)\n",
        "plt.show()"
      ],
      "execution_count": null,
      "outputs": [
        {
          "output_type": "display_data",
          "data": {
            "image/png": "[encoded data removed]",
            "text/plain": [
              "<Figure size 432x288 with 1 Axes>"
            ]
          },
          "metadata": {
            "tags": [],
            "needs_background": "light"
          }
        }
      ]
    },
    {
      "cell_type": "markdown",
      "metadata": {
        "id": "z6HBqHt9GpxU"
      },
      "source": [
        "# **Curve Fiting for N=6**"
      ]
    },
    {
      "cell_type": "code",
      "metadata": {
        "colab": {
          "base_uri": "https://localhost:8080/",
          "height": 265
        },
        "id": "2sZ_brk6Gw2K",
        "outputId": "5810f009-74b7-4244-b2a9-331530e85811"
      },
      "source": [
        "Y_hyp = []\n",
        "X_t = []\n",
        "x_temp = 0\n",
        "for i in range(5000):\n",
        "    x_temp += .0002\n",
        "    X_t.append(x_temp)\n",
        "    Y_hyp.append(newB[0]+newB[1]*x_temp+newB[2]*((x_temp)**2)+newB[3]*((x_temp)**3)+newB[4]*((x_temp)**4)+newB[5]*((x_temp)**5)+newB[6]*((x_temp)**6))\n",
        "plt.scatter(x1,y)\n",
        "plt.plot(X_t,Y_hyp)\n",
        "plt.show()"
      ],
      "execution_count": null,
      "outputs": [
        {
          "output_type": "display_data",
          "data": {
            "image/png": "[encoded data removed]",
            "text/plain": [
              "<Figure size 432x288 with 1 Axes>"
            ]
          },
          "metadata": {
            "tags": [],
            "needs_background": "light"
          }
        }
      ]
    },
    {
      "cell_type": "code",
      "metadata": {
        "colab": {
          "base_uri": "https://localhost:8080/"
        },
        "id": "RdFGFYTNG8XM",
        "outputId": "4a5f6726-b2ee-490d-bdcc-512ab0c91398"
      },
      "source": [
        "newB"
      ],
      "execution_count": null,
      "outputs": [
        {
          "output_type": "execute_result",
          "data": {
            "text/plain": [
              "array([  0.12930791,   6.84365039, -13.0339099 ,  -7.66692807,\n",
              "         1.02971383,   6.70055079,   9.36210024])"
            ]
          },
          "metadata": {
            "tags": []
          },
          "execution_count": 76
        }
      ]
    },
    {
      "cell_type": "markdown",
      "metadata": {
        "id": "ZBstaUTyHBpe"
      },
      "source": [
        "# **Case 8: N = 7**\n",
        "i.e. Y = b0 + b1*x + b2*x2 + b3*x3 + b4*x4 + b5*x5 + b6*x6 + b7*x7"
      ]
    },
    {
      "cell_type": "code",
      "metadata": {
        "colab": {
          "base_uri": "https://localhost:8080/",
          "height": 265
        },
        "id": "n4NbOh1AHF2M",
        "outputId": "63584b43-f57c-4ba8-950c-39db32e281c8"
      },
      "source": [
        "N = 7\n",
        "X, B, X_test = parameterX_n(N)\n",
        "Y = y_train\n",
        "alpha = 0.1\n",
        "\n",
        "#Training and Training Error\n",
        "newB, cost_history = gradient_descent(X, Y, B, alpha, 100000)  # 100000 Iterations\n",
        "train_error.append(cost_history[-1])\n",
        "\n",
        "#Test Error\n",
        "test_error.append(cost_function(X_test, y_test, newB))\n",
        "\n",
        "#Learning Curve for Train Error\n",
        "time = []\n",
        "time_temp = 0\n",
        "for i in range(len(cost_history)):\n",
        "    time_temp += 1\n",
        "    time.append(time_temp)\n",
        "plt.plot(time,cost_history)\n",
        "plt.show()"
      ],
      "execution_count": null,
      "outputs": [
        {
          "output_type": "display_data",
          "data": {
            "image/png": "[encoded data removed]",
            "text/plain": [
              "<Figure size 432x288 with 1 Axes>"
            ]
          },
          "metadata": {
            "tags": [],
            "needs_background": "light"
          }
        }
      ]
    },
    {
      "cell_type": "markdown",
      "metadata": {
        "id": "oSEsTUS6HP9E"
      },
      "source": [
        "# **Curve Fiting for N=7**"
      ]
    },
    {
      "cell_type": "code",
      "metadata": {
        "colab": {
          "base_uri": "https://localhost:8080/",
          "height": 267
        },
        "id": "byDjRsoHHUBR",
        "outputId": "790578ce-85d2-4f00-b441-f96e760326ad"
      },
      "source": [
        "Y_hyp = []\n",
        "X_t = []\n",
        "x_temp = 0\n",
        "for i in range(5000):\n",
        "    x_temp += .0002\n",
        "    X_t.append(x_temp)\n",
        "    Y_hyp.append(newB[0]+newB[1]*x_temp+newB[2]*((x_temp)**2)+newB[3]*((x_temp)**3)+newB[4]*((x_temp)**4)+newB[5]*((x_temp)**5)+newB[6]*((x_temp)**6)+newB[7]*((x_temp)**7))\n",
        "plt.scatter(x1,y)\n",
        "plt.plot(X_t,Y_hyp)\n",
        "plt.show()"
      ],
      "execution_count": null,
      "outputs": [
        {
          "output_type": "display_data",
          "data": {
            "image/png": "[encoded data removed]",
            "text/plain": [
              "<Figure size 432x288 with 1 Axes>"
            ]
          },
          "metadata": {
            "tags": [],
            "needs_background": "light"
          }
        }
      ]
    },
    {
      "cell_type": "code",
      "metadata": {
        "colab": {
          "base_uri": "https://localhost:8080/"
        },
        "id": "J0-Lx9LCHeig",
        "outputId": "e1a953c1-26cd-485f-9cd2-e4d87a8d528e"
      },
      "source": [
        "newB"
      ],
      "execution_count": null,
      "outputs": [
        {
          "output_type": "execute_result",
          "data": {
            "text/plain": [
              "array([  0.13149403,   6.61197672, -11.78572756,  -8.00421004,\n",
              "        -0.69489546,   4.26493506,   6.70626159,   7.51880176])"
            ]
          },
          "metadata": {
            "tags": []
          },
          "execution_count": 79
        }
      ]
    },
    {
      "cell_type": "markdown",
      "metadata": {
        "id": "TcMzVr5yHl5c"
      },
      "source": [
        "# **Case 9: N = 8**\n",
        "i.e. Y = b0 + b1*x + b2*x2 + b3*x3 + b4*x4 + b5*x5 + b6*x6 + b7*x7 + b8*x8"
      ]
    },
    {
      "cell_type": "code",
      "metadata": {
        "colab": {
          "base_uri": "https://localhost:8080/",
          "height": 265
        },
        "id": "hfDsaMI5HqTw",
        "outputId": "e26c8d09-a4bf-46b0-96b9-08fc073e9ffc"
      },
      "source": [
        "\n",
        "N = 8\n",
        "X, B, X_test = parameterX_n(N)\n",
        "Y = y_train\n",
        "alpha = 0.1\n",
        "\n",
        "#Training and Training Error\n",
        "newB, cost_history = gradient_descent(X, Y, B, alpha, 100000)  # 100000 Iterations\n",
        "train_error.append(cost_history[-1])\n",
        "\n",
        "#Test Error\n",
        "test_error.append(cost_function(X_test, y_test, newB))\n",
        "\n",
        "#Learning Curve for Train Error\n",
        "time = []\n",
        "time_temp = 0\n",
        "for i in range(len(cost_history)):\n",
        "    time_temp += 1\n",
        "    time.append(time_temp)\n",
        "plt.plot(time,cost_history)\n",
        "plt.show()"
      ],
      "execution_count": null,
      "outputs": [
        {
          "output_type": "display_data",
          "data": {
            "image/png": "[encoded data removed]",
            "text/plain": [
              "<Figure size 432x288 with 1 Axes>"
            ]
          },
          "metadata": {
            "tags": [],
            "needs_background": "light"
          }
        }
      ]
    },
    {
      "cell_type": "markdown",
      "metadata": {
        "id": "BOk2QtwtHxyD"
      },
      "source": [
        "# **Curve Fiting for N=8**"
      ]
    },
    {
      "cell_type": "code",
      "metadata": {
        "colab": {
          "base_uri": "https://localhost:8080/",
          "height": 265
        },
        "id": "4wKTjliiH3dR",
        "outputId": "bdcccb27-06a8-475a-c7f0-548c7f07dfe7"
      },
      "source": [
        "Y_hyp = []\n",
        "X_t = []\n",
        "x_temp = 0\n",
        "for i in range(5000):\n",
        "    x_temp += .0002\n",
        "    X_t.append(x_temp)\n",
        "    Y_hyp.append(newB[0]+newB[1]*x_temp+newB[2]*((x_temp)**2)+newB[3]*((x_temp)**3)+newB[4]*((x_temp)**4)+newB[5]*((x_temp)**5)+newB[6]*((x_temp)**6)+newB[7]*((x_temp)**7)+newB[8]*((x_temp)**8))\n",
        "plt.scatter(x1,y)\n",
        "plt.plot(X_t,Y_hyp)\n",
        "plt.show()"
      ],
      "execution_count": null,
      "outputs": [
        {
          "output_type": "display_data",
          "data": {
            "image/png": "[encoded data removed]",
            "text/plain": [
              "<Figure size 432x288 with 1 Axes>"
            ]
          },
          "metadata": {
            "tags": [],
            "needs_background": "light"
          }
        }
      ]
    },
    {
      "cell_type": "code",
      "metadata": {
        "colab": {
          "base_uri": "https://localhost:8080/"
        },
        "id": "ixnJQNShRf9V",
        "outputId": "169fc618-597a-4762-f89e-f0204cb1cc55"
      },
      "source": [
        "newB"
      ],
      "execution_count": null,
      "outputs": [
        {
          "output_type": "execute_result",
          "data": {
            "text/plain": [
              "array([  0.13525967,   6.4299353 , -10.96380724,  -8.09038967,\n",
              "        -1.60928085,   2.9152117 ,   5.21247578,   6.04526784,\n",
              "         6.07488153])"
            ]
          },
          "metadata": {
            "tags": []
          },
          "execution_count": 82
        }
      ]
    },
    {
      "cell_type": "markdown",
      "metadata": {
        "id": "ghMcdWKERmA3"
      },
      "source": [
        "Case 10: N = 9\n",
        "i.e. Y = b0 + b1*x + b2*x2 + b3*x3 + b4*x4 + b5*x5 + b6*x6 + b7*x7 + b8*x8 + b9*x9"
      ]
    },
    {
      "cell_type": "code",
      "metadata": {
        "colab": {
          "base_uri": "https://localhost:8080/",
          "height": 265
        },
        "id": "qRYCqaWsRoIL",
        "outputId": "f0998388-691d-43a4-be27-7c35105d55b9"
      },
      "source": [
        "N = 9\n",
        "X, B, X_test = parameterX_n(N)\n",
        "Y = y_train\n",
        "alpha = 0.1\n",
        "\n",
        "#Training and Training Error\n",
        "newB, cost_history = gradient_descent(X, Y, B, alpha, 100000)  # 100000 Iterations\n",
        "train_error.append(cost_history[-1])\n",
        "\n",
        "#Test Error\n",
        "test_error.append(cost_function(X_test, y_test, newB))\n",
        "\n",
        "#Learning Curve for Train Error\n",
        "time = []\n",
        "time_temp = 0\n",
        "for i in range(len(cost_history)):\n",
        "    time_temp += 1\n",
        "    time.append(time_temp)\n",
        "plt.plot(time,cost_history)\n",
        "plt.show()"
      ],
      "execution_count": null,
      "outputs": [
        {
          "output_type": "display_data",
          "data": {
            "image/png": "[encoded data removed]",
            "text/plain": [
              "<Figure size 432x288 with 1 Axes>"
            ]
          },
          "metadata": {
            "tags": [],
            "needs_background": "light"
          }
        }
      ]
    },
    {
      "cell_type": "markdown",
      "metadata": {
        "id": "cAG0badyR6lM"
      },
      "source": [
        "# **Curve Fiting for N=9**"
      ]
    },
    {
      "cell_type": "code",
      "metadata": {
        "colab": {
          "base_uri": "https://localhost:8080/",
          "height": 269
        },
        "id": "WBxkECb1SAQZ",
        "outputId": "2f09d415-9e87-4bd2-cefc-b37262ca5aba"
      },
      "source": [
        "Y_hyp = []\n",
        "X_t = []\n",
        "x_temp = 0\n",
        "for i in range(5000):\n",
        "    x_temp += .0002\n",
        "    X_t.append(x_temp)\n",
        "    Y_hyp.append(newB[0]+newB[1]*x_temp+newB[2]*((x_temp)**2)+newB[3]*((x_temp)**3)+newB[4]*((x_temp)**4)+newB[5]*((x_temp)**5)+newB[6]*((x_temp)**6)+newB[7]*((x_temp)**7)+newB[8]*((x_temp)**8)+newB[9]*((x_temp)**9))\n",
        "plt.scatter(x1,y)\n",
        "plt.plot(X_t,Y_hyp)\n",
        "plt.show()"
      ],
      "execution_count": null,
      "outputs": [
        {
          "output_type": "display_data",
          "data": {
            "image/png": "[encoded data removed]",
            "text/plain": [
              "<Figure size 432x288 with 1 Axes>"
            ]
          },
          "metadata": {
            "tags": [],
            "needs_background": "light"
          }
        }
      ]
    },
    {
      "cell_type": "code",
      "metadata": {
        "colab": {
          "base_uri": "https://localhost:8080/"
        },
        "id": "YwJmT7sQSIcP",
        "outputId": "3fbb075d-c2ce-4aea-f104-19bf15e53b91"
      },
      "source": [
        "newB"
      ],
      "execution_count": null,
      "outputs": [
        {
          "output_type": "execute_result",
          "data": {
            "text/plain": [
              "array([  0.13857516,   6.29907015, -10.42042004,  -8.10086989,\n",
              "        -2.13846989,   2.10916622,   4.31137821,   5.15237348,\n",
              "         5.24039918,   4.95913973])"
            ]
          },
          "metadata": {
            "tags": []
          },
          "execution_count": 85
        }
      ]
    },
    {
      "cell_type": "markdown",
      "metadata": {
        "id": "9p8xUuvTSH_S"
      },
      "source": [
        "# **Train Error vs Test Error**"
      ]
    },
    {
      "cell_type": "code",
      "metadata": {
        "colab": {
          "base_uri": "https://localhost:8080/",
          "height": 295
        },
        "id": "4zO3fv16VNYa",
        "outputId": "7043b8f9-bcc4-4d77-c0d3-7b6e9ee33229"
      },
      "source": [
        "X_N = [0,1,2,3,4,5,6,7,8,9]\n",
        "plt.plot(X_N,train_error, 'r', label='Train Error')\n",
        "plt.plot(X_N,test_error, 'b', label='Test Error')\n",
        "plt.title('Train Error vs Test Error')\n",
        "plt.ylabel('Error')\n",
        "plt.xlabel('N')\n",
        "plt.legend()\n",
        "plt.grid()\n",
        "plt.xticks(np.arange(0, 10, step=1))\n",
        "plt.show()"
      ],
      "execution_count": null,
      "outputs": [
        {
          "output_type": "display_data",
          "data": {
            "image/png": "[encoded data removed]",
            "text/plain": [
              "<Figure size 432x288 with 1 Axes>"
            ]
          },
          "metadata": {
            "tags": [],
            "needs_background": "light"
          }
        }
      ]
    },
    {
      "cell_type": "markdown",
      "metadata": {
        "id": "uMfWH3GyVfRw"
      },
      "source": [
        "Test Error is recorded in the list test_error. Test Error correspoding to N is given by test_error[n]\n",
        "\n",
        "From the above plot we can conclude that N = 4 is the best fit because the test error is minimum. For N>4 there is overfitting, as the test error is increasing thus N>4 is ignored."
      ]
    },
    {
      "cell_type": "markdown",
      "metadata": {
        "id": "IDVhSPa-Vn58"
      },
      "source": [
        "# **RMSE vs learning rate**\n",
        "For N=4; i.e. Y = B0 + B1*X1 + B2*X2 + B3*X3 + B4*X4 "
      ]
    },
    {
      "cell_type": "code",
      "metadata": {
        "id": "hNp_sa1hUEzC"
      },
      "source": [
        "# Model Evaluation - RMSE\n",
        "def rmse(Y, Y_pred):\n",
        "    rmse = np.sqrt(sum((Y - Y_pred) ** 2) / len(Y))\n",
        "    return rmse\n",
        "\n",
        "N = 4\n",
        "X, B, X_test = parameterX_n(N)\n",
        "Y = y_train\n",
        "rmse_value = []\n",
        "\n",
        "for i in range(5):\n",
        "    if i==0:\n",
        "        alpha = 0.025\n",
        "    elif i==1:\n",
        "        alpha = 0.05\n",
        "    elif i==2:\n",
        "        alpha = 0.1\n",
        "    elif i==3:\n",
        "        alpha = 0.2\n",
        "    elif i==4:\n",
        "        alpha = 0.5\n",
        "    \n",
        "    newB, cost_history = gradient_descent(X, Y, B, alpha, 100000)\n",
        "    if alpha == 0.1:\n",
        "        final_train_cost = cost_history[-1]\n",
        "        final_test_cost = cost_function(X_test, y_test, newB)\n",
        "    Y_pred = X_test.dot(newB)\n",
        "    rmse_value.append(rmse(y_test, Y_pred))"
      ],
      "execution_count": null,
      "outputs": []
    },
    {
      "cell_type": "code",
      "metadata": {
        "colab": {
          "base_uri": "https://localhost:8080/",
          "height": 295
        },
        "id": "5Mv-C7wlUP9e",
        "outputId": "df4d292a-3adc-4788-ae7a-a7d2cfe3baf6"
      },
      "source": [
        "X_N = [0.025,0.05,0.1,0.2,0.5]\n",
        "plt.plot(X_N,rmse_value)\n",
        "plt.title('Test RMSE vs Learning Rate')\n",
        "plt.ylabel('Test RMSE')\n",
        "plt.xlabel('Learning Rate')\n",
        "# plt.legend()\n",
        "plt.grid()\n",
        "plt.xticks(np.arange(0, 0.6, step=0.05))\n",
        "plt.scatter(X_N,rmse_value)\n",
        "plt.show()"
      ],
      "execution_count": null,
      "outputs": [
        {
          "output_type": "display_data",
          "data": {
            "image/png": "[encoded data removed]",
            "text/plain": [
              "<Figure size 432x288 with 1 Axes>"
            ]
          },
          "metadata": {
            "tags": [],
            "needs_background": "light"
          }
        }
      ]
    },
    {
      "cell_type": "code",
      "metadata": {
        "colab": {
          "base_uri": "https://localhost:8080/"
        },
        "id": "V4b2QXHpV3KP",
        "outputId": "e619bb3f-86ac-47d0-aa67-1adc50271bbb"
      },
      "source": [
        "print(final_train_cost, ',', final_test_cost)"
      ],
      "execution_count": null,
      "outputs": [
        {
          "output_type": "stream",
          "text": [
            "0.01824743222071163 , 0.10384242026487682\n"
          ],
          "name": "stdout"
        }
      ]
    },
    {
      "cell_type": "markdown",
      "metadata": {
        "id": "WRbQya_1WSj8"
      },
      "source": [
        "# **Q.3. Experimenting with larger training set**\n",
        "Repeat the above experiment with three other datasets having size 100, 1000 and 10,000\n",
        "instances (each dataset generated similarly as described in Part 1a).\n",
        "Draw the learning curve of how train and test error varies with increase in size of datasets (for\n",
        "10, 100, 1000 and 10000 instances)."
      ]
    },
    {
      "cell_type": "code",
      "metadata": {
        "id": "qSQi81x_WhEi"
      },
      "source": [
        "import numpy as np\n",
        "import random\n",
        "import math\n",
        "from sklearn.metrics import confusion_matrix, classification_report \n",
        "from sklearn.model_selection import train_test_split \n",
        "import matplotlib.pyplot as plt"
      ],
      "execution_count": null,
      "outputs": []
    },
    {
      "cell_type": "code",
      "metadata": {
        "id": "VHFdFnr6WupI"
      },
      "source": [
        "x1 = []\n",
        "y = []\n",
        "n = 10\n",
        "for i in range(n):\n",
        "    x1.append(random.uniform(0, 1))   \n",
        "for i in range(n):\n",
        "    noise = np.random.normal(scale= 0.3)\n",
        "#     print(noise)\n",
        "    temp = noise + math.sin(2*math.pi*x1[i])\n",
        "    y.append(temp) \n",
        "# for i in range(n):    \n",
        "#     print(\"(\", x[i],\", \" ,y[i], \")\")\n",
        "train_error = []\n",
        "test_error = []"
      ],
      "execution_count": null,
      "outputs": []
    },
    {
      "cell_type": "code",
      "metadata": {
        "colab": {
          "base_uri": "https://localhost:8080/"
        },
        "id": "o5feO-fPW2tw",
        "outputId": "7a74b5c9-799e-4c13-a62a-5f9901adb8c0"
      },
      "source": [
        "x_train, x_test, y_train, y_test = train_test_split(x1,y,test_size = 0.2, random_state = 42)\n",
        "x2 = []\n",
        "x3 = []\n",
        "x4 = []\n",
        "x5 = []\n",
        "x6 = []\n",
        "x7 = []\n",
        "x8 = []\n",
        "x9 = []\n",
        "n1 = int(0.8*n)\n",
        "n2 = int(0.2*n)\n",
        "for i in range(n1):\n",
        "    x2.append(x_train[i]*x_train[i])\n",
        "    x3.append(x2[i]*x_train[i])\n",
        "    x4.append(x3[i]*x_train[i])\n",
        "    x5.append(x4[i]*x_train[i])\n",
        "    x6.append(x5[i]*x_train[i])\n",
        "    x7.append(x6[i]*x_train[i])\n",
        "    x8.append(x7[i]*x_train[i])\n",
        "    x9.append(x8[i]*x_train[i])\n",
        "    \n",
        "x2_test = []\n",
        "x3_test = []\n",
        "x4_test = []\n",
        "x5_test = []\n",
        "x6_test = []\n",
        "x7_test = []\n",
        "x8_test = []\n",
        "x9_test = []\n",
        "for i in range(n2):\n",
        "    x2_test.append(x_test[i]*x_test[i])\n",
        "    x3_test.append(x2_test[i]*x_test[i])\n",
        "    x4_test.append(x3_test[i]*x_test[i])\n",
        "    x5_test.append(x4_test[i]*x_test[i])\n",
        "    x6_test.append(x5_test[i]*x_test[i])\n",
        "    x7_test.append(x6_test[i]*x_test[i])\n",
        "    x8_test.append(x7_test[i]*x_test[i])\n",
        "    x9_test.append(x8_test[i]*x_test[i])\n",
        "\n",
        "print(x_train[0], x2[0], x3[0], x4[0], x5[0], x6[0])"
      ],
      "execution_count": null,
      "outputs": [
        {
          "output_type": "stream",
          "text": [
            "0.407996753472751 0.16646135084430475 0.06791569072316492 0.027709381324910718 0.011305337621302048 0.004612541046404589\n"
          ],
          "name": "stdout"
        }
      ]
    },
    {
      "cell_type": "code",
      "metadata": {
        "id": "CuQrgs1xXB2L"
      },
      "source": [
        "def cost_function(X, Y, B):\n",
        "    m = len(Y)\n",
        "    J = np.sum((X.dot(B) - Y) ** 2)/(2 * m)\n",
        "    return J"
      ],
      "execution_count": null,
      "outputs": []
    },
    {
      "cell_type": "code",
      "metadata": {
        "id": "w8hYm2V3XiYf"
      },
      "source": [
        "def gradient_descent(X, Y, B, alpha, iterations):\n",
        "    cost_history = [0] * iterations\n",
        "    m = len(Y)\n",
        "    \n",
        "    for iteration in range(iterations):\n",
        "        # Hypothesis Values\n",
        "        h = X.dot(B)\n",
        "        # Difference b/w Hypothesis and Actual Y\n",
        "        loss = h - Y\n",
        "        # Gradient Calculation\n",
        "        gradient = X.T.dot(loss) / m\n",
        "        # Changing Values of B using Gradient\n",
        "        B = B - alpha * gradient\n",
        "        # New Cost Value\n",
        "        cost = cost_function(X, Y, B)\n",
        "        cost_history[iteration] = cost\n",
        "#         print(cost)\n",
        "        \n",
        "    return B, cost_history"
      ],
      "execution_count": null,
      "outputs": []
    },
    {
      "cell_type": "code",
      "metadata": {
        "id": "qSis5S4dXqed"
      },
      "source": [
        "def parameterX_n(n):\n",
        "    m = len(x_train)\n",
        "    x0 = np.ones(m)\n",
        "    \n",
        "    m2 = len(x_test)\n",
        "    x0_test = np.ones(m2)\n",
        "    #Taking transpose of X matrix\n",
        "    # X = np.array([x0]).T\n",
        "    if n ==0:\n",
        "        X = np.array([x0]).T\n",
        "        B = np.array([0])\n",
        "        X_test = np.array([x0_test]).T\n",
        "    elif n==1:\n",
        "        X = np.array([x0, x_train]).T\n",
        "        B = np.array([0, 0])\n",
        "        X_test = np.array([x0_test, x_test]).T\n",
        "    elif n==2:\n",
        "        X = np.array([x0, x_train, x2]).T\n",
        "        B = np.array([0, 0, 0])\n",
        "        X_test = np.array([x0_test, x_test, x2_test]).T\n",
        "    elif n==3:\n",
        "        X = np.array([x0, x_train, x2, x3]).T\n",
        "        B = np.array([0, 0, 0, 0])\n",
        "        X_test = np.array([x0_test, x_test, x2_test, x3_test]).T\n",
        "    elif n==4:\n",
        "        X = np.array([x0, x_train, x2, x3, x4]).T\n",
        "        B = np.array([0, 0, 0, 0, 0])\n",
        "        X_test = np.array([x0_test, x_test, x2_test, x3_test, x4_test]).T\n",
        "    elif n==5:\n",
        "        X = np.array([x0, x_train, x2, x3, x4, x5]).T\n",
        "        B = np.array([0, 0, 0, 0, 0, 0])\n",
        "        X_test = np.array([x0_test, x_test, x2_test, x3_test, x4_test, x5_test]).T\n",
        "    elif n==6:\n",
        "        X = np.array([x0, x_train, x2, x3, x4, x5, x6]).T\n",
        "        B = np.array([0, 0, 0, 0, 0, 0, 0])\n",
        "        X_test = np.array([x0_test, x_test, x2_test, x3_test, x4_test, x5_test, x6_test]).T\n",
        "    elif n==7:\n",
        "        X = np.array([x0, x_train, x2, x3, x4, x5, x6, x7]).T\n",
        "        B = np.array([0, 0, 0, 0, 0, 0, 0, 0])\n",
        "        X_test = np.array([x0_test, x_test, x2_test, x3_test, x4_test, x5_test, x6_test, x7_test]).T\n",
        "    elif n==8:\n",
        "        X = np.array([x0, x_train, x2, x3, x4, x5, x6, x7, x8]).T\n",
        "        B = np.array([0, 0, 0, 0, 0, 0, 0, 0, 0])\n",
        "        X_test = np.array([x0_test, x_test, x2_test, x3_test, x4_test, x5_test, x6_test, x7_test, x8_test]).T\n",
        "    elif n==9:\n",
        "        X = np.array([x0, x_train, x2, x3, x4, x5, x6, x7, x8, x9]).T\n",
        "        B = np.array([0, 0, 0, 0, 0, 0, 0, 0, 0, 0])\n",
        "        X_test = np.array([x0_test, x_test, x2_test, x3_test, x4_test, x5_test, x6_test, x7_test, x8_test, x9_test]).T   \n",
        "    return X, B, X_test"
      ],
      "execution_count": null,
      "outputs": []
    },
    {
      "cell_type": "code",
      "metadata": {
        "id": "syYPDTAxYB66"
      },
      "source": [
        "N = 4\n",
        "X, B, X_test = parameterX_n(N)\n",
        "Y = y_train\n",
        "alpha = 0.1\n",
        "\n",
        "#Training and Training Error\n",
        "newB, cost_history = gradient_descent(X, Y, B, alpha, 100000)  # 100000 Iterations\n",
        "train_error.append(cost_history[-1])\n",
        "\n",
        "updated_B = newB\n",
        "#Test Error\n",
        "test_error.append(cost_function(X_test, y_test, newB))"
      ],
      "execution_count": null,
      "outputs": []
    },
    {
      "cell_type": "markdown",
      "metadata": {
        "id": "s_rAOEsEYOEP"
      },
      "source": [
        "# **N = 100**"
      ]
    },
    {
      "cell_type": "code",
      "metadata": {
        "id": "dDGO4FnGYREb"
      },
      "source": [
        "x1 = []\n",
        "y = []\n",
        "n = 100\n",
        "for i in range(n):\n",
        "    x1.append(random.uniform(0, 1))   \n",
        "for i in range(n):\n",
        "    noise = np.random.normal(scale= 0.3)\n",
        "#     print(noise)\n",
        "    temp = noise + math.sin(2*math.pi*x1[i])\n",
        "    y.append(temp) \n",
        "# for i in range(n):    \n",
        "#     print(\"(\", x[i],\", \" ,y[i], \")\")"
      ],
      "execution_count": null,
      "outputs": []
    },
    {
      "cell_type": "code",
      "metadata": {
        "colab": {
          "base_uri": "https://localhost:8080/"
        },
        "id": "sAML0xARYfw-",
        "outputId": "eab3baf8-42ca-4c10-f93d-7067f65febdd"
      },
      "source": [
        "x_train, x_test, y_train, y_test = train_test_split(x1,y,test_size = 0.2, random_state = 42)\n",
        "x2 = []\n",
        "x3 = []\n",
        "x4 = []\n",
        "x5 = []\n",
        "x6 = []\n",
        "x7 = []\n",
        "x8 = []\n",
        "x9 = []\n",
        "n1 = int(0.8*n)\n",
        "n2 = int(0.2*n)\n",
        "for i in range(n1):\n",
        "    x2.append(x_train[i]*x_train[i])\n",
        "    x3.append(x2[i]*x_train[i])\n",
        "    x4.append(x3[i]*x_train[i])\n",
        "    x5.append(x4[i]*x_train[i])\n",
        "    x6.append(x5[i]*x_train[i])\n",
        "    x7.append(x6[i]*x_train[i])\n",
        "    x8.append(x7[i]*x_train[i])\n",
        "    x9.append(x8[i]*x_train[i])\n",
        "    \n",
        "x2_test = []\n",
        "x3_test = []\n",
        "x4_test = []\n",
        "x5_test = []\n",
        "x6_test = []\n",
        "x7_test = []\n",
        "x8_test = []\n",
        "x9_test = []\n",
        "for i in range(n2):\n",
        "    x2_test.append(x_test[i]*x_test[i])\n",
        "    x3_test.append(x2_test[i]*x_test[i])\n",
        "    x4_test.append(x3_test[i]*x_test[i])\n",
        "    x5_test.append(x4_test[i]*x_test[i])\n",
        "    x6_test.append(x5_test[i]*x_test[i])\n",
        "    x7_test.append(x6_test[i]*x_test[i])\n",
        "    x8_test.append(x7_test[i]*x_test[i])\n",
        "    x9_test.append(x8_test[i]*x_test[i])\n",
        "\n",
        "print(x_train[0], x2[0], x3[0], x4[0], x5[0], x6[0])"
      ],
      "execution_count": null,
      "outputs": [
        {
          "output_type": "stream",
          "text": [
            "0.4714688546587219 0.22228288091320703 0.10479945527439079 0.049409679147074975 0.023295124836526373 0.010982925825809035\n"
          ],
          "name": "stdout"
        }
      ]
    },
    {
      "cell_type": "code",
      "metadata": {
        "id": "fZYT-_0MYp5H"
      },
      "source": [
        "N = 4\n",
        "X, B, X_test = parameterX_n(N)\n",
        "Y = y_train\n",
        "alpha = 0.1\n",
        "\n",
        "#Training and Training Error\n",
        "newB, cost_history = gradient_descent(X, Y, B, alpha, 100000)  # 100000 Iterations\n",
        "train_error.append(cost_history[-1])\n",
        "\n",
        "updated_B = newB\n",
        "#Test Error\n",
        "test_error.append(cost_function(X_test, y_test, newB))"
      ],
      "execution_count": null,
      "outputs": []
    },
    {
      "cell_type": "markdown",
      "metadata": {
        "id": "mlcVpCGEYyzT"
      },
      "source": [
        "# **N = 1000**"
      ]
    },
    {
      "cell_type": "code",
      "metadata": {
        "id": "XYKfaepbY3em"
      },
      "source": [
        "x1 = []\n",
        "y = []\n",
        "n = 1000\n",
        "for i in range(n):\n",
        "    x1.append(random.uniform(0, 1))   \n",
        "for i in range(n):\n",
        "    noise = np.random.normal(scale= 0.3)\n",
        "#     print(noise)\n",
        "    temp = noise + math.sin(2*math.pi*x1[i])\n",
        "    y.append(temp) \n",
        "# for i in range(n):    \n",
        "#     print(\"(\", x[i],\", \" ,y[i], \")\")"
      ],
      "execution_count": null,
      "outputs": []
    },
    {
      "cell_type": "code",
      "metadata": {
        "colab": {
          "base_uri": "https://localhost:8080/"
        },
        "id": "URhP2kiFZAuV",
        "outputId": "028e3c73-3a21-42f8-ccf2-ceff170639fa"
      },
      "source": [
        "\n",
        "x_train, x_test, y_train, y_test = train_test_split(x1,y,test_size = 0.2, random_state = 42)\n",
        "x2 = []\n",
        "x3 = []\n",
        "x4 = []\n",
        "x5 = []\n",
        "x6 = []\n",
        "x7 = []\n",
        "x8 = []\n",
        "x9 = []\n",
        "n1 = int(0.8*n)\n",
        "n2 = int(0.2*n)\n",
        "for i in range(n1):\n",
        "    x2.append(x_train[i]*x_train[i])\n",
        "    x3.append(x2[i]*x_train[i])\n",
        "    x4.append(x3[i]*x_train[i])\n",
        "    x5.append(x4[i]*x_train[i])\n",
        "    x6.append(x5[i]*x_train[i])\n",
        "    x7.append(x6[i]*x_train[i])\n",
        "    x8.append(x7[i]*x_train[i])\n",
        "    x9.append(x8[i]*x_train[i])\n",
        "    \n",
        "x2_test = []\n",
        "x3_test = []\n",
        "x4_test = []\n",
        "x5_test = []\n",
        "x6_test = []\n",
        "x7_test = []\n",
        "x8_test = []\n",
        "x9_test = []\n",
        "for i in range(n2):\n",
        "    x2_test.append(x_test[i]*x_test[i])\n",
        "    x3_test.append(x2_test[i]*x_test[i])\n",
        "    x4_test.append(x3_test[i]*x_test[i])\n",
        "    x5_test.append(x4_test[i]*x_test[i])\n",
        "    x6_test.append(x5_test[i]*x_test[i])\n",
        "    x7_test.append(x6_test[i]*x_test[i])\n",
        "    x8_test.append(x7_test[i]*x_test[i])\n",
        "    x9_test.append(x8_test[i]*x_test[i])\n",
        "\n",
        "print(x_train[0], x2[0], x3[0], x4[0], x5[0], x6[0])"
      ],
      "execution_count": null,
      "outputs": [
        {
          "output_type": "stream",
          "text": [
            "0.6900335712133576 0.4761463294014599 0.3285569520970211 0.22671532700248356 0.1564411867403279 0.10794967077128423\n"
          ],
          "name": "stdout"
        }
      ]
    },
    {
      "cell_type": "code",
      "metadata": {
        "id": "3FdJ-xCJZOeh"
      },
      "source": [
        "N = 4\n",
        "X, B, X_test = parameterX_n(N)\n",
        "Y = y_train\n",
        "alpha = 0.1\n",
        "\n",
        "#Training and Training Error\n",
        "newB, cost_history = gradient_descent(X, Y, B, alpha, 100000)  # 100000 Iterations\n",
        "train_error.append(cost_history[-1])\n",
        "\n",
        "updated_B = newB\n",
        "#Test Error\n",
        "test_error.append(cost_function(X_test, y_test, newB))"
      ],
      "execution_count": null,
      "outputs": []
    },
    {
      "cell_type": "markdown",
      "metadata": {
        "id": "7JCqo8YKZWEa"
      },
      "source": [
        "# **N = 10000**"
      ]
    },
    {
      "cell_type": "code",
      "metadata": {
        "id": "XfxInVWlZYvX"
      },
      "source": [
        "x1 = []\n",
        "y = []\n",
        "n = 10000\n",
        "for i in range(n):\n",
        "    x1.append(random.uniform(0, 1))   \n",
        "for i in range(n):\n",
        "    noise = np.random.normal(scale= 0.3)\n",
        "#     print(noise)\n",
        "    temp = noise + math.sin(2*math.pi*x1[i])\n",
        "    y.append(temp) \n",
        "# for i in range(n):    \n",
        "#     print(\"(\", x[i],\", \" ,y[i], \")\")"
      ],
      "execution_count": null,
      "outputs": []
    },
    {
      "cell_type": "code",
      "metadata": {
        "colab": {
          "base_uri": "https://localhost:8080/"
        },
        "id": "rjaDvwQHZjCe",
        "outputId": "ef20364b-95e3-4cd1-ef29-81e2e31af58e"
      },
      "source": [
        "x_train, x_test, y_train, y_test = train_test_split(x1,y,test_size = 0.2, random_state = 42)\n",
        "x2 = []\n",
        "x3 = []\n",
        "x4 = []\n",
        "x5 = []\n",
        "x6 = []\n",
        "x7 = []\n",
        "x8 = []\n",
        "x9 = []\n",
        "n1 = int(0.8*n)\n",
        "n2 = int(0.2*n)\n",
        "for i in range(n1):\n",
        "    x2.append(x_train[i]*x_train[i])\n",
        "    x3.append(x2[i]*x_train[i])\n",
        "    x4.append(x3[i]*x_train[i])\n",
        "    x5.append(x4[i]*x_train[i])\n",
        "    x6.append(x5[i]*x_train[i])\n",
        "    x7.append(x6[i]*x_train[i])\n",
        "    x8.append(x7[i]*x_train[i])\n",
        "    x9.append(x8[i]*x_train[i])\n",
        "    \n",
        "x2_test = []\n",
        "x3_test = []\n",
        "x4_test = []\n",
        "x5_test = []\n",
        "x6_test = []\n",
        "x7_test = []\n",
        "x8_test = []\n",
        "x9_test = []\n",
        "for i in range(n2):\n",
        "    x2_test.append(x_test[i]*x_test[i])\n",
        "    x3_test.append(x2_test[i]*x_test[i])\n",
        "    x4_test.append(x3_test[i]*x_test[i])\n",
        "    x5_test.append(x4_test[i]*x_test[i])\n",
        "    x6_test.append(x5_test[i]*x_test[i])\n",
        "    x7_test.append(x6_test[i]*x_test[i])\n",
        "    x8_test.append(x7_test[i]*x_test[i])\n",
        "    x9_test.append(x8_test[i]*x_test[i])\n",
        "\n",
        "print(x_train[0], x2[0], x3[0], x4[0], x5[0], x6[0])"
      ],
      "execution_count": null,
      "outputs": [
        {
          "output_type": "stream",
          "text": [
            "0.8567617559504753 0.7340407064593418 0.6288980046052332 0.5388157587393296 0.4616367355912957 0.3955127001964438\n"
          ],
          "name": "stdout"
        }
      ]
    },
    {
      "cell_type": "code",
      "metadata": {
        "id": "CwE6wNYyZvbj"
      },
      "source": [
        "N = 4\n",
        "X, B, X_test = parameterX_n(N)\n",
        "Y = y_train\n",
        "alpha = 0.1\n",
        "\n",
        "#Training and Training Error\n",
        "newB, cost_history = gradient_descent(X, Y, B, alpha, 100000)  # 100000 Iterations\n",
        "train_error.append(cost_history[-1])\n",
        "\n",
        "updated_B = newB\n",
        "#Test Error\n",
        "test_error.append(cost_function(X_test, y_test, newB))"
      ],
      "execution_count": null,
      "outputs": []
    },
    {
      "cell_type": "code",
      "metadata": {
        "id": "PE5dqo7CbEea",
        "colab": {
          "base_uri": "https://localhost:8080/",
          "height": 299
        },
        "outputId": "c91431ac-492a-47e6-a85e-08e51f44abf8"
      },
      "source": [
        "import pylab\n",
        "X_N = [10,100,1000,10000]\n",
        "fig = plt.figure()\n",
        "ax = fig.add_subplot(111)\n",
        "plt.plot(X_N,train_error, 'b', label='Train Error')\n",
        "plt.plot(X_N,test_error, 'r', label='Test Error')\n",
        "plt.scatter(X_N,train_error)\n",
        "plt.scatter(X_N,test_error)\n",
        "plt.title('Error variation with size of dataset')\n",
        "plt.ylabel('Error')\n",
        "plt.xlabel('Size of dataset')\n",
        "plt.legend()\n",
        "plt.grid()\n",
        "ax.set_xscale('log')\n",
        "# plt.xticks(np.arange(1, 5, step=1))\n",
        "plt.show()"
      ],
      "execution_count": null,
      "outputs": [
        {
          "output_type": "display_data",
          "data": {
            "image/png": "[encoded data removed]",
            "text/plain": [
              "<Figure size 432x288 with 1 Axes>"
            ]
          },
          "metadata": {
            "tags": [],
            "needs_background": "light"
          }
        }
      ]
    }
  ]
}