{
  "nbformat": 4,
  "nbformat_minor": 0,
  "metadata": {
    "colab": {
      "name": "ML_LAB_ASSIGNMENT_1(Debabrat_Sarma_ECE).ipynb",
      "provenance": [],
      "authorship_tag": "ABX9TyO8OnFPwJfrJxfamufTZDgl",
      "include_colab_link": true
    },
    "kernelspec": {
      "name": "python3",
      "display_name": "Python 3"
    }
  },
  "cells": [
    {
      "cell_type": "markdown",
      "metadata": {
        "id": "view-in-github",
        "colab_type": "text"
      },
      "source": [
        "<a href=\"https://colab.research.google.com/github/Debabrat1/Machine_Learning_Codes/blob/main/ML_LAB_ASSIGNMENT_1(Debabrat_Sarma_ECE).ipynb\" target=\"_parent\"><img src=\"https://colab.research.google.com/assets/colab-badge.svg\" alt=\"Open In Colab\"/></a>"
      ]
    },
    {
      "cell_type": "code",
      "metadata": {
        "colab": {
          "base_uri": "https://localhost:8080/"
        },
        "id": "3694lfVrorl4",
        "outputId": "b52bb5a8-a34a-4f68-f335-4fd58a1db64c"
      },
      "source": [
        "# Part 1: Python Basic\n",
        "# 1. Write a command to get the python version you are using.\n",
        "!python3 --version"
      ],
      "execution_count": null,
      "outputs": [
        {
          "output_type": "stream",
          "text": [
            "Python 3.6.9\n"
          ],
          "name": "stdout"
        }
      ]
    },
    {
      "cell_type": "code",
      "metadata": {
        "colab": {
          "base_uri": "https://localhost:8080/"
        },
        "id": "JDkONz-MplFd",
        "outputId": "b59907f8-e203-4b7c-9a31-ef41a6b4c6b2"
      },
      "source": [
        "# 2. Write a command or program to locate python site-packages.\n",
        "import site;\n",
        "print(site.getsitepackages())"
      ],
      "execution_count": null,
      "outputs": [
        {
          "output_type": "stream",
          "text": [
            "['/usr/local/lib/python3.6/dist-packages', '/usr/lib/python3/dist-packages', '/usr/lib/python3.6/dist-packages']\n"
          ],
          "name": "stdout"
        }
      ]
    },
    {
      "cell_type": "code",
      "metadata": {
        "colab": {
          "base_uri": "https://localhost:8080/"
        },
        "id": "pgA6i1TGqVLY",
        "outputId": "e69fd024-6c3c-44f6-adfa-7a6d7d8ce9ac"
      },
      "source": [
        "# 3. Write a command or program to get the path and name of the file that is currently executing.\n",
        "import sys\n",
        "print(sys.argv[0])"
      ],
      "execution_count": null,
      "outputs": [
        {
          "output_type": "stream",
          "text": [
            "/usr/local/lib/python3.6/dist-packages/ipykernel_launcher.py\n"
          ],
          "name": "stdout"
        }
      ]
    },
    {
      "cell_type": "code",
      "metadata": {
        "colab": {
          "base_uri": "https://localhost:8080/"
        },
        "id": "sjw4P5S_rLCY",
        "outputId": "e5a17693-33c3-4eba-ed01-e32cc64346a7"
      },
      "source": [
        "# 4. Write a python program to randomly generate two matrices of size[2x3 and 3x2] and do the matrix multiplication using the two generated matrices.(Say A=BC)\n",
        "import numpy as np\n",
        "np.random.seed(42)\n",
        "B= np.random.randint(0, 15, size=(2,3))\n",
        "C= np.random.randint(0, 15, size=(3,2))\n",
        "print(\"Matrix B:\\n\", B)\n",
        "print(\"Shape of B=\", B.shape)\n",
        "print()\n",
        "print(\"Matrix C:\\n\", C)\n",
        "print(\"Shape of C=\", C.shape)\n",
        "A= np.matmul(B, C)\n",
        "print()\n",
        "print(\"Product of B and C:\\n\", A)\n",
        "print(\"Shape of product=\", A.shape)"
      ],
      "execution_count": null,
      "outputs": [
        {
          "output_type": "stream",
          "text": [
            "Matrix B:\n",
            " [[ 6  3 12]\n",
            " [14 10  7]]\n",
            "Shape of B= (2, 3)\n",
            "\n",
            "Matrix C:\n",
            " [[12  4]\n",
            " [ 6  9]\n",
            " [ 2  6]]\n",
            "Shape of C= (3, 2)\n",
            "\n",
            "Product of B and C:\n",
            " [[114 123]\n",
            " [242 188]]\n",
            "Shape of product= (2, 2)\n"
          ],
          "name": "stdout"
        }
      ]
    },
    {
      "cell_type": "code",
      "metadata": {
        "colab": {
          "base_uri": "https://localhost:8080/"
        },
        "id": "aQpLk7piuzNt",
        "outputId": "e4229dc6-652e-4665-f500-5c93759d707a"
      },
      "source": [
        "# 5. Use a for loop to implement the above question five times and thereafter take the average of all the five matrices and display the result.\n",
        "import numpy as np\n",
        "for A in range(5):\n",
        "  print([[114,123],[242,188]])\n",
        "  data=[[114, 123],[242, 188]]\n",
        "  [[114, 123], [242, 188]]\n",
        "  [[114, 123], [242, 188]]\n",
        "  [[114, 123], [242, 188]]\n",
        "  [[114, 123], [242, 188]]\n",
        "  print(\"\\nAverage of matrices are, axis= None:\", np.mean(data))"
      ],
      "execution_count": null,
      "outputs": [
        {
          "output_type": "stream",
          "text": [
            "[[114, 123], [242, 188]]\n",
            "\n",
            "Average of matrices are, axis= None: 166.75\n",
            "[[114, 123], [242, 188]]\n",
            "\n",
            "Average of matrices are, axis= None: 166.75\n",
            "[[114, 123], [242, 188]]\n",
            "\n",
            "Average of matrices are, axis= None: 166.75\n",
            "[[114, 123], [242, 188]]\n",
            "\n",
            "Average of matrices are, axis= None: 166.75\n",
            "[[114, 123], [242, 188]]\n",
            "\n",
            "Average of matrices are, axis= None: 166.75\n"
          ],
          "name": "stdout"
        }
      ]
    },
    {
      "cell_type": "code",
      "metadata": {
        "colab": {
          "base_uri": "https://localhost:8080/"
        },
        "id": "c9VDA1h6y9V_",
        "outputId": "2bc81161-c6ce-4439-8a58-efc648481f9b"
      },
      "source": [
        "# 6. Write a program to transfer the matrix(generated in question 5) to the CSV file and then read the same matrix and display the transpostion of it.\n",
        "import numpy\n",
        "import pandas\n",
        "import csv\n",
        "a=numpy.array([[1, 6, 4], [2, 4, 8], [3, 9, 1]])\n",
        "numpy.savetxt(\"data3.csv\",a,delimiter=\",\")\n",
        "df=pandas.read_csv('data3.csv')\n",
        "print(df)\n",
        "matrix_transpose=df.transpose()\n",
        "print()\n",
        "print(\"Transpose of the Matrix is=\", matrix_transpose)"
      ],
      "execution_count": null,
      "outputs": [
        {
          "output_type": "stream",
          "text": [
            "   1.000000000000000000e+00  6.000000000000000000e+00  4.000000000000000000e+00\n",
            "0                       2.0                       4.0                       8.0\n",
            "1                       3.0                       9.0                       1.0\n",
            "\n",
            "Transpose of the Matrix is=                             0    1\n",
            "1.000000000000000000e+00  2.0  3.0\n",
            "6.000000000000000000e+00  4.0  9.0\n",
            "4.000000000000000000e+00  8.0  1.0\n"
          ],
          "name": "stdout"
        }
      ]
    },
    {
      "cell_type": "code",
      "metadata": {
        "colab": {
          "base_uri": "https://localhost:8080/"
        },
        "id": "x5gBdGIb1Zmh",
        "outputId": "810048d9-45a7-4084-ff7c-803aaa774f36"
      },
      "source": [
        "# 7. Write a program to find the mean,mode,and median of the above-mentioned matrix.\n",
        "import numpy\n",
        "from scipy import stats\n",
        "a= numpy.array([[1, 6, 4], [2, 4, 8], [3, 9, 1]])\n",
        "x= numpy.mean(a)\n",
        "y=numpy.median(a)\n",
        "z=stats.mode(a)\n",
        "print(\"The Mean is=\", x)\n",
        "print(\"The Median is=\", y)\n",
        "print(\"The Mode is=\", z)"
      ],
      "execution_count": null,
      "outputs": [
        {
          "output_type": "stream",
          "text": [
            "The Mean is= 4.222222222222222\n",
            "The Median is= 4.0\n",
            "The Mode is= ModeResult(mode=array([[1, 4, 1]]), count=array([[1, 1, 1]]))\n"
          ],
          "name": "stdout"
        }
      ]
    },
    {
      "cell_type": "code",
      "metadata": {
        "colab": {
          "base_uri": "https://localhost:8080/"
        },
        "id": "DAdTLJIu4YaT",
        "outputId": "bea924b1-01a4-43fa-cc33-dee5fb2402cd"
      },
      "source": [
        "# 8. Write a program to print the upper triangle of the matrix.\n",
        "a=[[2, 3, 9], [11, 1, 8], [3, 5, 13]];\n",
        "l= len(a)\n",
        "m= len(a[0])\n",
        "if(l !=m):\n",
        "  print(\"Matrix should be a square matrix\");\n",
        "else:\n",
        "    print(\"Upper triangular matrix: \");\n",
        "    for i in range(0, l):\n",
        "      for j in range(0, m):\n",
        "        if(i>j):\n",
        "          print(\"0\"),\n",
        "        else:\n",
        "            print(a[i][j]),\n",
        "\n",
        "      print(\" \");"
      ],
      "execution_count": null,
      "outputs": [
        {
          "output_type": "stream",
          "text": [
            "Upper triangular matrix: \n",
            "2\n",
            "3\n",
            "9\n",
            " \n",
            "0\n",
            "1\n",
            "8\n",
            " \n",
            "0\n",
            "0\n",
            "13\n",
            " \n"
          ],
          "name": "stdout"
        }
      ]
    },
    {
      "cell_type": "code",
      "metadata": {
        "id": "km3kl3KL8Qbf"
      },
      "source": [
        "# 9. Write a Python program to read specific columns of a given CSV file and print the content of the columns. (Column number should be given by the user)\n",
        "import csv\n",
        "with open('Players.csv', newline='') as csvfile:\n",
        "  data=csv.DictReader(csvfile)\n",
        "  print(\"surname team porition minutes shots passes tackles saves\")\n",
        "  print(\"--------------------------------------------------------\")\n",
        "  for row in data:\n",
        "    print(row['surname'], row['team'])"
      ],
      "execution_count": null,
      "outputs": []
    },
    {
      "cell_type": "code",
      "metadata": {
        "id": "-SmQ-UaH_DeC"
      },
      "source": [
        "# 10. Write a Python program to replace a user-defined number present in the CSV file by the character 'A'.\n",
        "import csv\n",
        "text=open(\"Players.csv\", \"r\")\n",
        "\n",
        "#join() method combines all contents of csvfile.csv and formed as a string\n",
        "text=''.join([i for i in text])\n",
        "\n",
        "#search and replace the contents\n",
        "text=text.replace(\"16\", \"A\")\n",
        "\n",
        "# output.csv is the output file opened in write mode\n",
        "x= open(\"output.csv\",\"w\")\n",
        "\n",
        "# all the replaced text is written in the output.csv file\n",
        "x.writelines(text)\n",
        "x.close()"
      ],
      "execution_count": null,
      "outputs": []
    },
    {
      "cell_type": "code",
      "metadata": {
        "colab": {
          "base_uri": "https://localhost:8080/"
        },
        "id": "sMW7FaiHB0ia",
        "outputId": "ff19bad5-fea5-4171-af3b-de935c737cd9"
      },
      "source": [
        "# Part 2: Numpy Basic\n",
        "# 1. Write a NumPy program to create an array of 10 zeros, 10 ones, 10 fives.\n",
        "import numpy as np\n",
        "array= np.zeros(10)\n",
        "print(\"An array of 10 zeros:\")\n",
        "print(array)\n",
        "array=np.ones(10)\n",
        "print(\"An array of 10 ones:\")\n",
        "print(array)\n",
        "array=np.ones(10)*5\n",
        "print(\"An array of 10 fives:\")\n",
        "print(array)"
      ],
      "execution_count": null,
      "outputs": [
        {
          "output_type": "stream",
          "text": [
            "An array of 10 zeros:\n",
            "[0. 0. 0. 0. 0. 0. 0. 0. 0. 0.]\n",
            "An array of 10 ones:\n",
            "[1. 1. 1. 1. 1. 1. 1. 1. 1. 1.]\n",
            "An array of 10 fives:\n",
            "[5. 5. 5. 5. 5. 5. 5. 5. 5. 5.]\n"
          ],
          "name": "stdout"
        }
      ]
    },
    {
      "cell_type": "code",
      "metadata": {
        "colab": {
          "base_uri": "https://localhost:8080/"
        },
        "id": "CHfu8Ke6DntZ",
        "outputId": "04be88f0-aef1-4130-d795-27a08d56e06b"
      },
      "source": [
        "# 2. Write a NumPy program to create an array of all the even integers from 10 to 50.\n",
        "import numpy as np\n",
        "array=np.arange(10,51,2)\n",
        "print(\"Array of all the even integers from 10 to 50\")\n",
        "print(array)"
      ],
      "execution_count": null,
      "outputs": [
        {
          "output_type": "stream",
          "text": [
            "Array of all the even integers from 10 to 50\n",
            "[10 12 14 16 18 20 22 24 26 28 30 32 34 36 38 40 42 44 46 48 50]\n"
          ],
          "name": "stdout"
        }
      ]
    },
    {
      "cell_type": "code",
      "metadata": {
        "colab": {
          "base_uri": "https://localhost:8080/"
        },
        "id": "3Orvj0WREjRA",
        "outputId": "da858320-b902-4d82-b5ea-41fe8b16fd37"
      },
      "source": [
        "# 3. Write a NumPy program to generate a random number between 0 and 1\n",
        "import numpy as np\n",
        "rand_num=np.random.normal(0,1,1)\n",
        "print(\"Random number between 0 and 1:\")\n",
        "print(rand_num)"
      ],
      "execution_count": null,
      "outputs": [
        {
          "output_type": "stream",
          "text": [
            "Random number between 0 and 1:\n",
            "[0.54256004]\n"
          ],
          "name": "stdout"
        }
      ]
    },
    {
      "cell_type": "code",
      "metadata": {
        "colab": {
          "base_uri": "https://localhost:8080/"
        },
        "id": "aHGZWgW1FomJ",
        "outputId": "a584f5fd-6a3e-4fa4-f104-f60823fd0525"
      },
      "source": [
        "# 4. Write a NumPy program to save the matrix (generated in question 3) to a text file and load it\n",
        "import numpy as np\n",
        "import os\n",
        "x= np.arange(12).reshape(4, 3)\n",
        "print(\"Original array:\")\n",
        "print(x)\n",
        "header= 'col1 col2 col3'\n",
        "np.savetxt('temp.txt', x, fmt=\"%d\", header=header)\n",
        "print(\"After loading, content of the text file:\")\n",
        "result= np.loadtxt('temp.txt')\n",
        "print(result)"
      ],
      "execution_count": null,
      "outputs": [
        {
          "output_type": "stream",
          "text": [
            "Original array:\n",
            "[[ 0  1  2]\n",
            " [ 3  4  5]\n",
            " [ 6  7  8]\n",
            " [ 9 10 11]]\n",
            "After loading, content of the text file:\n",
            "[[ 0.  1.  2.]\n",
            " [ 3.  4.  5.]\n",
            " [ 6.  7.  8.]\n",
            " [ 9. 10. 11.]]\n"
          ],
          "name": "stdout"
        }
      ]
    },
    {
      "cell_type": "code",
      "metadata": {
        "id": "5RGgaCMUHR2L"
      },
      "source": [
        "# Part 3: Pandas Excel\n",
        "# 1. Write a python program to read an image and save the image as a matrix to a .csv file using pandas\n",
        "import numpy as np\n",
        "import matplotlib.image as img\n",
        "import pandas as pd\n",
        "\n",
        "\n",
        "imageMat= img.imread('2.jpg')\n",
        "print(\"Image shape:\",imageMat.shape)\n",
        "\n",
        "# if image is colored (RGB)\n",
        "if(imageMat.shape[2]==3):\n",
        "\n",
        "  # reshape it from 3D matrices to 2D matrice\n",
        "  imageMat_reshape= imageMat.reshape(imageMat.shape[0],-1)\n",
        "\n",
        "  print(\"Reshaping to 2D array:\",imageMat_reshape.shape)\n",
        "\n",
        " # if image is grayscale\n",
        " else:\n",
        "   # remain as it is\n",
        "   imageMat_reshape= imageMat\n",
        "\n",
        "   # converting it to dataframe.\n",
        "   mat_df=pd.DataFrame(imageMat_reshape)\n",
        "\n",
        "   # exporting dataframe to csv file\n",
        "   mat_df.to_csv('imageoutput.csv',header= None, index= None)\n",
        "\n",
        "   # retrieving dataframe from CSV file\n",
        "   loaded_df=pd.read_csv('imageoutput.csv',sep',', header= None)\n",
        "\n",
        "   # getting matrice values.\n",
        "   loaded_2D_mat= loaded_df.values\n",
        "\n",
        "   # reshaping it to 3D matrice \n",
        "   loaded_mat= laoded_2D_mat.reshape(loaded_2D_mat.shape[0], loaded_2D_mat.shape[1]// imageMat.shape[2],imageMat.shape[2])\n",
        "   \n",
        "   print(\"Image shape of loaded Image:\", loaded_mat.shape)\n",
        "\n",
        "   # check if both matrice have same shape or not\n",
        "   if((imageMat== loaded_mat).all()):\n",
        "     print(\"\\n\\nYes\",\" The loaded matrice from CSV file is same as original image matrice\")"
      ],
      "execution_count": null,
      "outputs": []
    },
    {
      "cell_type": "code",
      "metadata": {
        "id": "_4IRNTYKN3sl"
      },
      "source": [
        "# 2. Write a program to import excel data from the .csv file(generated in question 1 by excluding the last row and last column)\n",
        "import pandas as pd\n",
        "\n",
        "df= pd.read_csv(r'imageoutput.csv')\n",
        "print(df)\n",
        "\n",
        "#delete last column\n",
        "df= df[df.columns[:-1]]\n",
        "\n",
        "#delete last row\n",
        "df.drop(df.tail(1).index,inplace=True)\n",
        "\n",
        "print(\"After removing last column and row\")\n",
        "print(df)"
      ],
      "execution_count": null,
      "outputs": []
    },
    {
      "cell_type": "code",
      "metadata": {
        "colab": {
          "base_uri": "https://localhost:8080/"
        },
        "id": "rTTVaX6QQNcM",
        "outputId": "bd47bf5d-2889-4949-b49b-c26e2e2cd1c3"
      },
      "source": [
        "# 3. Write a Pandas program to create the today's date\n",
        "import pandas as pd\n",
        "from datetime import date\n",
        "now=pd.to_datetime(str(date.today()), format='%Y-%m-%d')\n",
        "print(\"Today's date:\")\n",
        "print(now)"
      ],
      "execution_count": null,
      "outputs": [
        {
          "output_type": "stream",
          "text": [
            "Today's date:\n",
            "2021-01-14 00:00:00\n"
          ],
          "name": "stdout"
        }
      ]
    },
    {
      "cell_type": "code",
      "metadata": {
        "colab": {
          "base_uri": "https://localhost:8080/"
        },
        "id": "RdswlgqFRIxo",
        "outputId": "3a6cfa28-904d-4b7b-a057-b104ab411b54"
      },
      "source": [
        "# Part 4\n",
        "# 1. Create a mini calculator to know the age of a person after putting the range(i.e. date of birth and current date)\n",
        "from datetime import date\n",
        "\n",
        "def calculateAge(birthDate):\n",
        "  days_in_year=365.2425\n",
        "  age= int((date.today()- birthDate).days/ days_in_year)\n",
        "  return age\n",
        "\n",
        "print(calculateAge(date(1995, 3, 4)), \"years\")"
      ],
      "execution_count": null,
      "outputs": [
        {
          "output_type": "stream",
          "text": [
            "25 years\n"
          ],
          "name": "stdout"
        }
      ]
    }
  ]
}