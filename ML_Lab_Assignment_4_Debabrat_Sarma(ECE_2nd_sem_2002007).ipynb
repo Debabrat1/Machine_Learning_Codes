{
  "nbformat": 4,
  "nbformat_minor": 0,
  "metadata": {
    "colab": {
      "name": "ML_Lab_Assignment_4_Debabrat_Sarma(ECE_2nd_sem_2002007).ipynb",
      "provenance": [],
      "authorship_tag": "ABX9TyPWuJA1qS6shcJUd7Z9CzDR",
      "include_colab_link": true
    },
    "kernelspec": {
      "name": "python3",
      "display_name": "Python 3"
    }
  },
  "cells": [
    {
      "cell_type": "markdown",
      "metadata": {
        "id": "view-in-github",
        "colab_type": "text"
      },
      "source": [
        "<a href=\"https://colab.research.google.com/github/Debabrat1/Machine_Learning_Codes/blob/main/ML_Lab_Assignment_4_Debabrat_Sarma(ECE_2nd_sem_2002007).ipynb\" target=\"_parent\"><img src=\"https://colab.research.google.com/assets/colab-badge.svg\" alt=\"Open In Colab\"/></a>"
      ]
    },
    {
      "cell_type": "markdown",
      "metadata": {
        "id": "uBkPqnrFcJi4"
      },
      "source": [
        "Q(1). Cluster the Iris dataset using Fuzzy C-means Clustering algorithm (using 3 Clusters)"
      ]
    },
    {
      "cell_type": "markdown",
      "metadata": {
        "id": "uEil_FeYczwT"
      },
      "source": [
        "(a) Write your own code and donot use the inbuilt functions"
      ]
    },
    {
      "cell_type": "code",
      "metadata": {
        "id": "9_uF1FcDdlj1"
      },
      "source": [
        "from pylab import *\n",
        "from numpy import *\n",
        "import pandas as pd\n",
        "import numpy as np\n",
        "import operator\n",
        "import math\n",
        "import matplotlib.pyplot as plt\n",
        "import random\n",
        "\n",
        "#Data is saved in a .csv file\n",
        "df_full = pd.read_csv(\"iris (2).csv\")\n",
        "columns = list(df_full.columns)\n",
        "features = columns[:len(columns) - 1]\n",
        "# class_labels = list(df_full[columns[-1]])\n",
        "df = df_full[features]\n",
        "# \n",
        "num_attr = len(df.columns) - 1\n",
        "# \n",
        "k = 3\n",
        "# Maximum number of iterations\n",
        "MAX_ITER = 100\n",
        "# Number of samples\n",
        "n = len(df)  # the number of row\n",
        "# fuzzy parameter\n",
        "m = 2.00\n",
        "\n",
        "\n",
        "# Initialize the fuzzy matrix U\n",
        "def initializeMembershipMatrix():\n",
        "    membership_mat = list()\n",
        "    for i in range(n):\n",
        "        random_num_list = [random.random() for i in range(k)]\n",
        "        summation = sum(random_num_list)\n",
        "        temp_list = [x / summation for x in random_num_list]  #First normalization\n",
        "        membership_mat.append(temp_list)\n",
        "    return membership_mat\n",
        "\n",
        "\n",
        "# \n",
        "def calculateClusterCenter(membership_mat):\n",
        "    cluster_mem_val = zip(*membership_mat)\n",
        "    cluster_centers = list()\n",
        "    cluster_mem_val_list = list(cluster_mem_val)\n",
        "    for j in range(k):\n",
        "        x = cluster_mem_val_list[j]\n",
        "        xraised = [e ** m for e in x]\n",
        "        denominator = sum(xraised)\n",
        "        temp_num = list()\n",
        "        for i in range(n):\n",
        "            data_point = list(df.iloc[i])\n",
        "            prod = [xraised[i] * val for val in data_point]\n",
        "            temp_num.append(prod)\n",
        "        numerator = map(sum, zip(*temp_num))\n",
        "        center = [z / denominator for z in numerator]  # Each dimension must be calculated.\n",
        "        cluster_centers.append(center)\n",
        "    return cluster_centers\n",
        "\n",
        "\n",
        "#Update membership\n",
        "def updateMembershipValue(membership_mat, cluster_centers):\n",
        "    #    p = float(2/(m-1))\n",
        "    data = []\n",
        "    for i in range(n):\n",
        "        x = list(df.iloc[i])  # Take out each line of data in the file\n",
        "        data.append(x)\n",
        "        distances = [np.linalg.norm(list(map(operator.sub, x, cluster_centers[j]))) for j in range(k)]\n",
        "        for j in range(k):\n",
        "            den = sum([math.pow(float(distances[j] / distances[c]), 2) for c in range(k)])\n",
        "            membership_mat[i][j] = float(1 / den)\n",
        "    return membership_mat, data\n",
        "\n",
        "\n",
        "# Get cluster results\n",
        "def getClusters(membership_mat):\n",
        "    cluster_labels = list()\n",
        "    for i in range(n):\n",
        "        max_val, idx = max((val, idx) for (idx, val) in enumerate(membership_mat[i]))\n",
        "        cluster_labels.append(idx)\n",
        "    return cluster_labels\n",
        "\n",
        "\n",
        "def fuzzyCMeansClustering():\n",
        "    # \n",
        "    membership_mat = initializeMembershipMatrix()\n",
        "    curr = 0\n",
        "    while curr <= MAX_ITER:  # The maximum number of iterations\n",
        "        cluster_centers = calculateClusterCenter(membership_mat)\n",
        "        membership_mat, data = updateMembershipValue(membership_mat, cluster_centers)\n",
        "        cluster_labels = getClusters(membership_mat)\n",
        "        curr += 1\n",
        "    print(membership_mat)\n",
        "    return cluster_labels, cluster_centers, data, membership_mat\n",
        "\n",
        "\n",
        "def xie_beni(membership_mat, center, data):\n",
        "    sum_cluster_distance = 0\n",
        "    min_cluster_center_distance = inf\n",
        "    for i in range(k):\n",
        "        for j in range(n):\n",
        "            sum_cluster_distance = sum_cluster_distance + membership_mat[j][i] ** 2 * sum(\n",
        "                power(data[j, :] - center[i, :], 2))  # \n",
        "    for i in range(k - 1):\n",
        "        for j in range(i + 1, k):\n",
        "            cluster_center_distance = sum(power(center[i, :] - center[j, :], 2))  # Calculate the distance between classes\n",
        "            if cluster_center_distance < min_cluster_center_distance:\n",
        "                min_cluster_center_distance = cluster_center_distance\n",
        "    return sum_cluster_distance / (n * min_cluster_center_distance)\n",
        "\n",
        "\n",
        "labels, centers, data, membership = fuzzyCMeansClustering()\n",
        "print(labels)\n",
        "print(centers)\n",
        "center_array = array(centers)\n",
        "label = array(labels)\n",
        "datas = array(data)\n",
        "\n",
        "# Xie-Beni cluster validity\n",
        "print(\"Cluster validity:\", xie_beni(membership, center_array, datas))\n",
        "xlim(0, 10)\n",
        "ylim(0, 10)\n",
        "# \n",
        "fig = plt.gcf()\n",
        "fig.set_size_inches(16.5, 12.5)\n",
        "f1 = plt.figure(1)\n",
        "plt.scatter(datas[nonzero(label == 0), 0], datas[nonzero(label == 0), 1], marker='o', color='r', label='0', s=10)\n",
        "plt.scatter(datas[nonzero(label == 1), 0], datas[nonzero(label == 1), 1], marker='+', color='b', label='1', s=10)\n",
        "plt.scatter(datas[nonzero(label == 2), 0], datas[nonzero(label == 2), 1], marker='*', color='g', label='2', s=10)\n",
        "plt.scatter(center_array[:, 0], center_array[:, 1], marker='x', color='m', s=30)\n",
        "plt.show()"
      ],
      "execution_count": null,
      "outputs": []
    },
    {
      "cell_type": "markdown",
      "metadata": {
        "id": "zawrloJ9dtLk"
      },
      "source": [
        "(b) Repeat the experiments using Library functions and verify the earlier results."
      ]
    },
    {
      "cell_type": "code",
      "metadata": {
        "id": "K9V-bOP_emNU"
      },
      "source": [
        "%matplotlib inline\n",
        "import numpy as np\n",
        "from fcmeans import FCM\n",
        "from matplotlib import pyplot as plt\n",
        "import pandas as pd\n",
        "# Importing the datasets\n",
        "dataset = pd.read_csv('iris (2).csv')\n",
        "X = dataset.iloc[:,[0,1,2,3]].values\n",
        "fcm = FCM(n_clusters=3)\n",
        "fcm.fit(X)\n",
        "fcm_centers = fcm.centers\n",
        "fcm_labels = fcm.predict(X)\n",
        "\n",
        "#plot result\n",
        "f, axes = plt.subplots(1, 2, figsize=(11,5))\n",
        "axes[0].scatter(X[:,0], X[:,1],c = 'g')\n",
        "axes[1].scatter(X[:,0], X[:,1], c=fcm_labels)\n",
        "axes[1].scatter(fcm_centers[:,0], fcm_centers[:,1], marker=\"+\", s=500, c='cyan')\n",
        "plt.show()"
      ],
      "execution_count": null,
      "outputs": []
    }
  ]
}