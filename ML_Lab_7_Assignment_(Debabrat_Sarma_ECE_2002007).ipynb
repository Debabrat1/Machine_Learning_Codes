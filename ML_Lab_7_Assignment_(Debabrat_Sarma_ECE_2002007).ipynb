{
  "nbformat": 4,
  "nbformat_minor": 0,
  "metadata": {
    "colab": {
      "name": "ML_Lab_7_Assignment_(Debabrat_Sarma_ECE_2002007).ipynb",
      "provenance": [],
      "authorship_tag": "ABX9TyPVXw8sLHNPxyag1/7HRM9N",
      "include_colab_link": true
    },
    "kernelspec": {
      "name": "python3",
      "display_name": "Python 3"
    },
    "language_info": {
      "name": "python"
    }
  },
  "cells": [
    {
      "cell_type": "markdown",
      "metadata": {
        "id": "view-in-github",
        "colab_type": "text"
      },
      "source": [
        "<a href=\"https://colab.research.google.com/github/Debabrat1/Machine_Learning_Codes/blob/main/ML_Lab_7_Assignment_(Debabrat_Sarma_ECE_2002007).ipynb\" target=\"_parent\"><img src=\"https://colab.research.google.com/assets/colab-badge.svg\" alt=\"Open In Colab\"/></a>"
      ]
    },
    {
      "cell_type": "markdown",
      "metadata": {
        "id": "hWtrYoZjSYKO"
      },
      "source": [
        "Q 1. Implement the single layer perceptron(SLP) for the OR and AND problem. Please make sure the followings:\n",
        "a. Activation function is threshold activation.\n",
        "b. Train the model for different learning rates (LR) where 0<LR<1. Train for 5 different learning rates and plot the training curve(epoch vs training accuracy)\n",
        "c. Weight initialization between -0.3 to 0.3"
      ]
    },
    {
      "cell_type": "code",
      "metadata": {
        "id": "0MVluRH7ZHlW"
      },
      "source": [
        "import numpy as np\n",
        "import matplotlib.pyplot as plt\n",
        "#Activation funtion\n",
        "def sigmoid(x):\n",
        "return 1/(1 + np.exp(-x))\n",
        "#sigmoid derivative for backpropogation\n",
        "def sigmoid_deriv(x):\n",
        "return sigmoid(x)*(1-sigmoid(x))\n",
        "#the forward funtion\n",
        "def forward(x,w1,w2,predict=False):\n",
        "a1 = np.matmul(x,w1)\n",
        "z1 = sigmoid(a1)\n",
        "#create and add bais\n",
        "bias = np.ones((len(z1),1))\n",
        "z1 = np.concatenate((bias,z1),axis=1)\n",
        "a2 = np.matmul(z1,w2)\n",
        "z2 = sigmoid(a2)\n",
        "if predict:\n",
        "return z2\n",
        "return a1,z1,a2,z2\n",
        "def backprop(a2,z0,z1,z2,y):\n",
        "delta2 = z2 - y\n",
        "Delta2 = np.matmul(z1.T,delta2)\n",
        "delta1 = (delta2.dot(w2[1:,:].T))*sigmoid_deriv(a1)\n",
        "Delta1 = np.matmul(z0.T,delta1)\n",
        "return delta2,Delta1,Delta2\n",
        "#first column = bais\n",
        "X = np.array([[1,1,0],\n",
        "[1,0,1],\n",
        "[1,0,0],\n",
        "[1,1,1]])\n",
        "#Output\n",
        "y = np.array([[1],[1],[0],[0]])\n",
        "#initialize weights\n",
        "w1 = np.random.randn(-0.3,0.3)\n",
        "w2 = np.random.randn(-0.3,0.3)\n",
        "#initialize learning rate\n",
        "lr = 0.89  # learning rate is between 0 to 1\n",
        "costs = [] #initiate epochs\n",
        "epochs = 15000\n",
        "m = len(X)\n",
        "#start training\n",
        "for i in range(epochs):\n",
        "#forward\n",
        "a1,z1,a2,z2 = forward(X,w1,w2)\n",
        "#backprop\n",
        "delta2,Delta1,Delta2 = backprop(a2,X,z1,z2,y)\n",
        "w1 -= lr*(1/m)*Delta1\n",
        "w2 -= lr*(1/m)*Delta2\n",
        "# add costs to list for plotting\n",
        "c = np.mean(np.abs(delta2))\n",
        "costs.append(c)\n",
        "if i % 1000 == 0:\n",
        "print(f\"iteration: {i}. Error: {c}\")\n",
        "#training complete\n",
        "print(\"Training complete\")\n",
        "#Make prediction\n",
        "z3 = forward(X,w1,w2,True)\n",
        "print(\"Precentages: \")\n",
        "print(z3)\n",
        "print(\"Predictions: \")\n",
        "print(np.round(z3))\n",
        "plt.plot(costs)\n",
        "plt.show()"
      ],
      "execution_count": null,
      "outputs": []
    },
    {
      "cell_type": "markdown",
      "metadata": {
        "id": "fCcSbkw0WIIS"
      },
      "source": [
        "Q 2. Implent the KNN Classifier over the IRIS dataset"
      ]
    },
    {
      "cell_type": "code",
      "metadata": {
        "colab": {
          "base_uri": "https://localhost:8080/"
        },
        "id": "mkgzNXI2sxrw",
        "outputId": "90418e00-4b11-4392-c0b1-7373c254f7fa"
      },
      "source": [
        "# mounting google drive on colab notebook\n",
        "\n",
        "from google.colab import drive\n",
        "drive.mount('/content/drive/')"
      ],
      "execution_count": null,
      "outputs": [
        {
          "output_type": "stream",
          "text": [
            "Mounted at /content/drive/\n"
          ],
          "name": "stdout"
        }
      ]
    },
    {
      "cell_type": "markdown",
      "metadata": {
        "id": "AIoudRkvqhrw"
      },
      "source": [
        "# KNN classifier on iris dataset"
      ]
    },
    {
      "cell_type": "code",
      "metadata": {
        "id": "ynJNCJJ_qVbb"
      },
      "source": [
        "import numpy as np\n",
        "import scipy.spatial\n",
        "from collections import Counter\n",
        "\n",
        "from sklearn import datasets\n",
        "from sklearn.model_selection import train_test_split\n",
        "iris = datasets.load_iris()\n",
        "X_train, X_test, y_train, y_test = train_test_split(iris.data, iris.target, random_state = 42, test_size = 0.2)"
      ],
      "execution_count": null,
      "outputs": []
    },
    {
      "cell_type": "code",
      "metadata": {
        "id": "1cTzaRuaquiB"
      },
      "source": [
        "class KNN:\n",
        "    def __init__(self, k):\n",
        "        self.k = k\n",
        "        \n",
        "    def fit(self, X, y):\n",
        "        self.X_train = X\n",
        "        self.y_train = y\n",
        "        \n",
        "    def distance(self, X1, X2):\n",
        "        distance = scipy.spatial.distance.euclidean(X1, X2)\n",
        "    \n",
        "    def predict(self, X_test):\n",
        "        final_output = []\n",
        "        for i in range(len(X_test)):\n",
        "            d = []\n",
        "            votes = []\n",
        "            for j in range(len(X_train)):\n",
        "                dist = scipy.spatial.distance.euclidean(X_train[j] , X_test[i])\n",
        "                d.append([dist, j])\n",
        "            d.sort()\n",
        "            d = d[0:self.k]\n",
        "            for d, j in d:\n",
        "                votes.append(y_train[j])\n",
        "            ans = Counter(votes).most_common(1)[0][0]\n",
        "            final_output.append(ans)\n",
        "            \n",
        "        return final_output\n",
        "    \n",
        "    def score(self, X_test, y_test):\n",
        "        predictions = self.predict(X_test)\n",
        "        return (predictions == y_test).sum() / len(y_test)\n"
      ],
      "execution_count": null,
      "outputs": []
    },
    {
      "cell_type": "code",
      "metadata": {
        "colab": {
          "base_uri": "https://localhost:8080/"
        },
        "id": "XOJKaDJ16SU4",
        "outputId": "e6c4b98e-2065-4736-d156-0fff94032cb3"
      },
      "source": [
        "clf = KNN(3)\n",
        "clf.fit(X_train, y_train)\n",
        "prediction = clf.predict(X_test)\n",
        "print(prediction)\n",
        "for i in prediction:\n",
        "    print(i, end= ' ')"
      ],
      "execution_count": null,
      "outputs": [
        {
          "output_type": "stream",
          "text": [
            "[1, 0, 2, 1, 1, 0, 1, 2, 1, 1, 2, 0, 0, 0, 0, 1, 2, 1, 1, 2, 0, 2, 0, 2, 2, 2, 2, 2, 0, 0]\n",
            "1 0 2 1 1 0 1 2 1 1 2 0 0 0 0 1 2 1 1 2 0 2 0 2 2 2 2 2 0 0 "
          ],
          "name": "stdout"
        }
      ]
    },
    {
      "cell_type": "code",
      "metadata": {
        "colab": {
          "base_uri": "https://localhost:8080/"
        },
        "id": "36v00YUl6f6k",
        "outputId": "69284d99-20ae-41cf-f1d4-923b85e302a5"
      },
      "source": [
        "prediction == y_test"
      ],
      "execution_count": null,
      "outputs": [
        {
          "output_type": "execute_result",
          "data": {
            "text/plain": [
              "array([ True,  True,  True,  True,  True,  True,  True,  True,  True,\n",
              "        True,  True,  True,  True,  True,  True,  True,  True,  True,\n",
              "        True,  True,  True,  True,  True,  True,  True,  True,  True,\n",
              "        True,  True,  True])"
            ]
          },
          "metadata": {
            "tags": []
          },
          "execution_count": 22
        }
      ]
    },
    {
      "cell_type": "code",
      "metadata": {
        "colab": {
          "base_uri": "https://localhost:8080/"
        },
        "id": "blTVLNBl6i5M",
        "outputId": "0ac01fba-0da5-4f7f-b652-67012e86ae48"
      },
      "source": [
        "clf.score(X_test, y_test)"
      ],
      "execution_count": null,
      "outputs": [
        {
          "output_type": "execute_result",
          "data": {
            "text/plain": [
              "1.0"
            ]
          },
          "metadata": {
            "tags": []
          },
          "execution_count": 23
        }
      ]
    }
  ]
}